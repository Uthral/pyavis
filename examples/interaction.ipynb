{
 "cells": [
  {
   "cell_type": "code",
   "execution_count": 1,
   "metadata": {},
   "outputs": [],
   "source": [
    "from pya import Asig\n",
    "import numpy as np\n",
    "\n",
    "from pyavis import use_backend\n",
    "from pyavis.graphics import Layout\n",
    "from pyavis.widgets import GraphicDisp\n",
    "\n",
    "%gui qt\n",
    "use_backend(\"qt\")"
   ]
  },
  {
   "cell_type": "code",
   "execution_count": null,
   "metadata": {},
   "outputs": [],
   "source": [
    "layout = Layout()\n",
    "track = layout.add_track(\"test\", 0, 0)\n",
    "\n",
    "display = GraphicDisp()\n",
    "display.set_displayed_item(layout)\n",
    "display.show()\n",
    "\n",
    "signal = Asig(np.sin(2* np.pi * 5 * np.linspace(0, 1, 44100)))\n",
    "sig = track.add_signal((0,0), 1.0, y=signal.sig)"
   ]
  },
  {
   "cell_type": "markdown",
   "metadata": {},
   "source": [
    "Most graphical elements provide ways to subscribe to changes. All elements inheriting from `GraphicElement` provide `onClick`, `onDraggingBegin`,`onDragging` and `onDraggingFinish` to allow interaction with mouse events. You can enable or disable interactability by setting the properties `clickable` and `draggable` to `True` or `False`."
   ]
  },
  {
   "cell_type": "markdown",
   "metadata": {},
   "source": [
    "You can add callbacks via `connect(...)` and remove them via `disconnect(...)`."
   ]
  },
  {
   "cell_type": "code",
   "execution_count": 2,
   "metadata": {},
   "outputs": [],
   "source": [
    "sig.clickable = True\n",
    "sig.onClick.connect(lambda elem, pos: sig.set_style((100, 100, 100)))\n",
    "sig.onClick.connect(lambda elem, pos: print(\"Click\"))"
   ]
  },
  {
   "cell_type": "code",
   "execution_count": 3,
   "metadata": {},
   "outputs": [],
   "source": [
    "sig.draggable = True\n",
    "sig.onDragging.connect(lambda elem, pos: sig.set_position(*pos))\n",
    "sig.onDragging.connect(lambda elem, pos: print(\"Drag\"))"
   ]
  }
 ],
 "metadata": {
  "kernelspec": {
   "display_name": "pyavis_full",
   "language": "python",
   "name": "python3"
  },
  "language_info": {
   "codemirror_mode": {
    "name": "ipython",
    "version": 3
   },
   "file_extension": ".py",
   "mimetype": "text/x-python",
   "name": "python",
   "nbconvert_exporter": "python",
   "pygments_lexer": "ipython3",
   "version": "3.10.13"
  }
 },
 "nbformat": 4,
 "nbformat_minor": 2
}
