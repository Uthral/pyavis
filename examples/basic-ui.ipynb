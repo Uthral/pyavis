{
 "cells": [
  {
   "cell_type": "code",
   "execution_count": null,
   "metadata": {},
   "outputs": [],
   "source": [
    "%load_ext autoreload\n",
    "%autoreload 2"
   ]
  },
  {
   "cell_type": "code",
   "execution_count": null,
   "metadata": {},
   "outputs": [],
   "source": [
    "from pyavis import use_backend\n",
    "\n",
    "# %gui qt\n",
    "# use_backend(\"qt\")\n",
    "\n",
    "use_backend(\"ipywidgets\")"
   ]
  },
  {
   "cell_type": "code",
   "execution_count": null,
   "metadata": {},
   "outputs": [],
   "source": [
    "from pyavis import create_button, create_drop_down, create_hbox\n",
    "\n",
    "hbox = create_hbox()\n",
    "b1 = create_button(label=\"Hello\")\n",
    "b2 = create_button(label=\"World\")\n",
    "\n",
    "hbox.add_widget(b1)\n",
    "hbox.add_widget(b2)\n",
    "\n",
    "temp = create_drop_down(description=\"Test\", options=[\"A\",\"B\",\"C\"], default=\"A\")\n",
    "hbox.add_widget(temp)\n",
    "# hbox.get_native_widget().show()\n",
    "hbox.get_native_widget()"
   ]
  },
  {
   "cell_type": "code",
   "execution_count": null,
   "metadata": {},
   "outputs": [],
   "source": [
    "temp.add_on_selection_changed(lambda x: print(x))"
   ]
  }
 ],
 "metadata": {
  "kernelspec": {
   "display_name": "pyavis",
   "language": "python",
   "name": "python3"
  },
  "language_info": {
   "codemirror_mode": {
    "name": "ipython",
    "version": 3
   },
   "file_extension": ".py",
   "mimetype": "text/x-python",
   "name": "python",
   "nbconvert_exporter": "python",
   "pygments_lexer": "ipython3",
   "version": "3.10.12"
  },
  "orig_nbformat": 4
 },
 "nbformat": 4,
 "nbformat_minor": 2
}
