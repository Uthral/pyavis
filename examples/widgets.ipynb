{
 "cells": [
  {
   "cell_type": "code",
   "execution_count": 1,
   "metadata": {},
   "outputs": [],
   "source": [
    "from pyavis import use_backend\n",
    "\n",
    "%matplotlib widget\n",
    "use_backend(\"ipywidgets\")\n",
    "\n",
    "# %gui qt\n",
    "# use_backend(\"qt\")"
   ]
  },
  {
   "cell_type": "code",
   "execution_count": 2,
   "metadata": {},
   "outputs": [
    {
     "data": {
      "application/vnd.jupyter.widget-view+json": {
       "model_id": "06760a64b943449eafe4a28382631af6",
       "version_major": 2,
       "version_minor": 0
      },
      "text/plain": [
       "HBox(children=(VBox(children=(HBox(children=(Button(description='Hello', style=ButtonStyle()), Button(descript…"
      ]
     },
     "metadata": {},
     "output_type": "display_data"
    }
   ],
   "source": [
    "from pyavis.widgets import ScrollArea, VBox, HBox, Button, ToggleButton, DropDown, IntSlider, FloatSlider, Toolbar\n",
    "\n",
    "scroll = ScrollArea(height=250, width=250)\n",
    "vbox = VBox()\n",
    "\n",
    "for i in range(20):\n",
    "    hbox = HBox()\n",
    "    hbox.add_widget(Button(label=\"Hello\"))\n",
    "    hbox.add_widget(Button(label=\"World\"))\n",
    "    vbox.add_widget(hbox)\n",
    "\n",
    "scroll.set_widget(vbox)\n",
    "scroll.show()"
   ]
  },
  {
   "cell_type": "code",
   "execution_count": 3,
   "metadata": {},
   "outputs": [
    {
     "data": {
      "application/vnd.jupyter.widget-view+json": {
       "model_id": "4ede47d628a44a5ab811011222651ebf",
       "version_major": 2,
       "version_minor": 0
      },
      "text/plain": [
       "VBox(children=(Button(description='Hello', style=ButtonStyle()), Button(description='World', style=ButtonStyle…"
      ]
     },
     "metadata": {},
     "output_type": "display_data"
    }
   ],
   "source": [
    "b1 = Button(label=\"Hello\")\n",
    "b2 = Button(label=\"World\")\n",
    "b1.add_on_click(lambda x: print(\"Hello\"))\n",
    "b2.add_on_click(lambda y: print(\"World\"))\n",
    "\n",
    "\n",
    "vbox = VBox()\n",
    "vbox.add_widget(b1)\n",
    "vbox.add_widget(b2)\n",
    "\n",
    "drop_down = DropDown(description=\"Test\", options=[\"A\",\"B\",\"C\"], default=\"A\")\n",
    "drop_down.add_on_selection_changed(lambda x: print(x))\n",
    "\n",
    "slider_i = IntSlider(\"Slider Test\", \"horizontal\",min=1, max=3, default=2, step=1)\n",
    "slider_i.add_on_value_changed(lambda x : print(x))\n",
    "\n",
    "vbox.add_widget(drop_down)\n",
    "vbox.add_widget(slider_i)\n",
    "vbox.show()"
   ]
  },
  {
   "cell_type": "code",
   "execution_count": 4,
   "metadata": {},
   "outputs": [
    {
     "data": {
      "application/vnd.jupyter.widget-view+json": {
       "model_id": "31da4193df9f477789d4054315225686",
       "version_major": 2,
       "version_minor": 0
      },
      "text/plain": [
       "VBox(children=(HBox(children=(Button(description='Hello', style=ButtonStyle()), Button(description='World', st…"
      ]
     },
     "metadata": {},
     "output_type": "display_data"
    }
   ],
   "source": [
    "from pyavis.graphics import Layout\n",
    "from pyavis.widgets import GraphicDisp\n",
    "\n",
    "layout = Layout(2,2)\n",
    "\n",
    "track_1 = layout.add_track(\"test_1\", 0, 0, rowspan=1, colspan=1)\n",
    "track_2 = layout.add_track(\"test_2\", 0, 1, rowspan=1, colspan=1)\n",
    "track_3 = layout.add_track(\"test_3\", 1, 0, rowspan=1, colspan=2)\n",
    "\n",
    "display = GraphicDisp()\n",
    "display.set_displayed_item(layout)\n",
    "\n",
    "hBox = HBox()\n",
    "vBox = VBox()\n",
    "\n",
    "b1 = Button(label = \"Button 1\")\n",
    "b2 = Button(label = \"Button 2\")\n",
    "\n",
    "hBox.add_widget(b1)\n",
    "hBox.add_widget(b2)\n",
    "\n",
    "vBox.add_widget(hbox)\n",
    "vBox.add_widget(display)\n",
    "vBox.show()"
   ]
  },
  {
   "cell_type": "markdown",
   "metadata": {},
   "source": [
    "Toggleable buttons can be created with a label, an optional icon and the default state of the button. The icon has to specifically specified based on the choosen backend. See implementations of `BaseToggleButton` in their respective backends. You can use `add_on_toggle(...)` and `remove_on_toggle(...)` to add and remove callbacks. The callbacks will recieve the a boolean value that expresses the current state, `True` when toggled and `False` when untoggled."
   ]
  },
  {
   "cell_type": "code",
   "execution_count": 5,
   "metadata": {},
   "outputs": [
    {
     "data": {
      "application/vnd.jupyter.widget-view+json": {
       "model_id": "12263dde69ce4a8c9473651f72773410",
       "version_major": 2,
       "version_minor": 0
      },
      "text/plain": [
       "ToggleButton(value=True, description='Test')"
      ]
     },
     "metadata": {},
     "output_type": "display_data"
    }
   ],
   "source": [
    "toggle = ToggleButton(\"Test\", None, True)\n",
    "toggle.show()\n",
    "\n",
    "print_func = lambda x: print(x)\n",
    "toggle.add_on_toggle(print_func)"
   ]
  },
  {
   "cell_type": "markdown",
   "metadata": {},
   "source": [
    "Toolbars are created with a list of labels and a list of values. You can use `add_on_active_changed(...)` and `remove_on_active_changed(...)` to add and remove callbacks. The callbacks will recieve the specified value for the button that was selected."
   ]
  },
  {
   "cell_type": "code",
   "execution_count": 6,
   "metadata": {},
   "outputs": [
    {
     "data": {
      "application/vnd.jupyter.widget-view+json": {
       "model_id": "2bb7ad74a1bb419b8cc341e15257c3e7",
       "version_major": 2,
       "version_minor": 0
      },
      "text/plain": [
       "ToggleButtons(options=(('Option 1', 'Value 1'), ('Option 2', 2), ('Option 3', 'Value 3')), value='Value 1')"
      ]
     },
     "metadata": {},
     "output_type": "display_data"
    }
   ],
   "source": [
    "toolbar = Toolbar(labels=[\"Option 1\", \"Option 2\", \"Option 3\"], values=[\"Value 1\", 2, \"Value 3\"])\n",
    "toolbar.show()\n",
    "\n",
    "print_func = lambda x: print(x)\n",
    "toolbar.add_on_active_changed(print_func)"
   ]
  }
 ],
 "metadata": {
  "kernelspec": {
   "display_name": "pyavis",
   "language": "python",
   "name": "python3"
  },
  "language_info": {
   "codemirror_mode": {
    "name": "ipython",
    "version": 3
   },
   "file_extension": ".py",
   "mimetype": "text/x-python",
   "name": "python",
   "nbconvert_exporter": "python",
   "pygments_lexer": "ipython3",
   "version": "3.10.13"
  },
  "orig_nbformat": 4
 },
 "nbformat": 4,
 "nbformat_minor": 2
}
