{
 "cells": [
  {
   "cell_type": "code",
   "execution_count": 1,
   "metadata": {},
   "outputs": [],
   "source": [
    "%load_ext autoreload\n",
    "%autoreload 2"
   ]
  },
  {
   "cell_type": "code",
   "execution_count": 2,
   "metadata": {},
   "outputs": [],
   "source": [
    "%matplotlib widget\n",
    "%gui qt"
   ]
  },
  {
   "cell_type": "code",
   "execution_count": 3,
   "metadata": {},
   "outputs": [],
   "source": [
    "from pyavis import use_backend\n",
    "\n",
    "if False:\n",
    "    use_backend(\"ipywidgets\")\n",
    "else:\n",
    "    use_backend(\"qt\")"
   ]
  },
  {
   "cell_type": "code",
   "execution_count": 4,
   "metadata": {},
   "outputs": [
    {
     "data": {
      "application/vnd.jupyter.widget-view+json": {
       "model_id": "6c7d124ebe8242b684425c8232bb30cf",
       "version_major": 2,
       "version_minor": 0
      },
      "text/plain": [
       "HBox(children=(VBox(children=(HBox(children=(Button(description='Hello', style=ButtonStyle()), Button(descript…"
      ]
     },
     "metadata": {},
     "output_type": "display_data"
    }
   ],
   "source": [
    "from pyavis.widgets import ScrollArea, VBox, HBox, Button, DropDown, IntSlider, FloatSlider\n",
    "\n",
    "scroll = ScrollArea(100)\n",
    "vbox = VBox()\n",
    "\n",
    "for i in range(20):\n",
    "    hbox = HBox()\n",
    "    hbox.add_widget(Button(label=\"Hello\"))\n",
    "    hbox.add_widget(Button(label=\"World\"))\n",
    "    vbox.add_widget(hbox)\n",
    "\n",
    "scroll.set_widget(vbox)\n",
    "scroll.show()"
   ]
  },
  {
   "cell_type": "code",
   "execution_count": 5,
   "metadata": {},
   "outputs": [
    {
     "data": {
      "application/vnd.jupyter.widget-view+json": {
       "model_id": "4e59a20e885a4202907c60e6b5877a33",
       "version_major": 2,
       "version_minor": 0
      },
      "text/plain": [
       "VBox(children=(Button(description='Hello', style=ButtonStyle()), Button(description='World', style=ButtonStyle…"
      ]
     },
     "metadata": {},
     "output_type": "display_data"
    },
    {
     "name": "stdout",
     "output_type": "stream",
     "text": [
      "3\n",
      "2\n",
      "1\n",
      "2\n",
      "3\n",
      "2\n",
      "1\n",
      "2\n"
     ]
    }
   ],
   "source": [
    "b1 = Button(label=\"Hello\")\n",
    "b2 = Button(label=\"World\")\n",
    "b1.add_on_click(lambda x: print(\"Hello\"))\n",
    "b2.add_on_click(lambda y: print(\"World\"))\n",
    "\n",
    "\n",
    "vbox = VBox()\n",
    "vbox.add_widget(b1)\n",
    "vbox.add_widget(b2)\n",
    "\n",
    "drop_down = DropDown(description=\"Test\", options=[\"A\",\"B\",\"C\"], default=\"A\")\n",
    "drop_down.add_on_selection_changed(lambda x: print(x))\n",
    "\n",
    "slider_i = IntSlider(\"Slider Test\", \"horizontal\",min=1, max=3, default=2, step=1)\n",
    "slider_i.add_on_value_changed(lambda x : print(x))\n",
    "\n",
    "vbox.add_widget(drop_down)\n",
    "vbox.add_widget(slider_i)\n",
    "vbox.show()"
   ]
  },
  {
   "cell_type": "code",
   "execution_count": 6,
   "metadata": {},
   "outputs": [
    {
     "data": {
      "application/vnd.jupyter.widget-view+json": {
       "model_id": "0de4693a503f4fb5905874140e4353a6",
       "version_major": 2,
       "version_minor": 0
      },
      "text/plain": [
       "VBox(children=(HBox(children=(Button(description='Hello', style=ButtonStyle()), Button(description='World', st…"
      ]
     },
     "metadata": {},
     "output_type": "display_data"
    }
   ],
   "source": [
    "from pyavis.graphics import Layout\n",
    "from pyavis.widgets import GraphicDisp\n",
    "\n",
    "layout = Layout(2,2)\n",
    "\n",
    "track_1 = layout.add_track(\"test_1\", 0, 0, rowspan=1, colspan=1)\n",
    "track_2 = layout.add_track(\"test_2\", 0, 1, rowspan=1, colspan=1)\n",
    "track_3 = layout.add_track(\"test_3\", 1, 0, rowspan=1, colspan=2)\n",
    "\n",
    "display = GraphicDisp()\n",
    "display.set_displayed_item(layout)\n",
    "\n",
    "hBox = HBox()\n",
    "vBox = VBox()\n",
    "\n",
    "b1 = Button(label = \"Button 1\")\n",
    "b2 = Button(label = \"Button 2\")\n",
    "\n",
    "hBox.add_widget(b1)\n",
    "hBox.add_widget(b2)\n",
    "\n",
    "vBox.add_widget(hbox)\n",
    "vBox.add_widget(display)\n",
    "vBox.show()"
   ]
  }
 ],
 "metadata": {
  "kernelspec": {
   "display_name": "pyavis",
   "language": "python",
   "name": "python3"
  },
  "language_info": {
   "codemirror_mode": {
    "name": "ipython",
    "version": 3
   },
   "file_extension": ".py",
   "mimetype": "text/x-python",
   "name": "python",
   "nbconvert_exporter": "python",
   "pygments_lexer": "ipython3",
   "version": "3.10.12"
  },
  "orig_nbformat": 4
 },
 "nbformat": 4,
 "nbformat_minor": 2
}
