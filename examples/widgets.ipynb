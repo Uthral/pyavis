{
 "cells": [
  {
   "cell_type": "code",
   "execution_count": null,
   "metadata": {},
   "outputs": [],
   "source": [
    "%load_ext autoreload\n",
    "%autoreload 2"
   ]
  },
  {
   "cell_type": "code",
   "execution_count": null,
   "metadata": {},
   "outputs": [],
   "source": [
    "%matplotlib widget\n",
    "%gui qt"
   ]
  },
  {
   "cell_type": "code",
   "execution_count": null,
   "metadata": {},
   "outputs": [],
   "source": [
    "from pyavis import use_backend\n",
    "\n",
    "if False:\n",
    "    use_backend(\"ipywidgets\")\n",
    "else:\n",
    "    use_backend(\"qt\")"
   ]
  },
  {
   "cell_type": "code",
   "execution_count": null,
   "metadata": {},
   "outputs": [],
   "source": [
    "from pyavis.widgets import ScrollArea, VBox, HBox, Button, ToggleButton, DropDown, IntSlider, FloatSlider, Toolbar\n",
    "\n",
    "scroll = ScrollArea(100)\n",
    "vbox = VBox()\n",
    "\n",
    "for i in range(20):\n",
    "    hbox = HBox()\n",
    "    hbox.add_widget(Button(label=\"Hello\"))\n",
    "    hbox.add_widget(Button(label=\"World\"))\n",
    "    vbox.add_widget(hbox)\n",
    "\n",
    "scroll.set_widget(vbox)\n",
    "scroll.show()"
   ]
  },
  {
   "cell_type": "code",
   "execution_count": null,
   "metadata": {},
   "outputs": [],
   "source": [
    "b1 = Button(label=\"Hello\")\n",
    "b2 = Button(label=\"World\")\n",
    "b1.add_on_click(lambda x: print(\"Hello\"))\n",
    "b2.add_on_click(lambda y: print(\"World\"))\n",
    "\n",
    "\n",
    "vbox = VBox()\n",
    "vbox.add_widget(b1)\n",
    "vbox.add_widget(b2)\n",
    "\n",
    "drop_down = DropDown(description=\"Test\", options=[\"A\",\"B\",\"C\"], default=\"A\")\n",
    "drop_down.add_on_selection_changed(lambda x: print(x))\n",
    "\n",
    "slider_i = IntSlider(\"Slider Test\", \"horizontal\",min=1, max=3, default=2, step=1)\n",
    "slider_i.add_on_value_changed(lambda x : print(x))\n",
    "\n",
    "vbox.add_widget(drop_down)\n",
    "vbox.add_widget(slider_i)\n",
    "vbox.show()"
   ]
  },
  {
   "cell_type": "code",
   "execution_count": null,
   "metadata": {},
   "outputs": [],
   "source": [
    "from pyavis.graphics import Layout\n",
    "from pyavis.widgets import GraphicDisp\n",
    "\n",
    "layout = Layout(2,2)\n",
    "\n",
    "track_1 = layout.add_track(\"test_1\", 0, 0, rowspan=1, colspan=1)\n",
    "track_2 = layout.add_track(\"test_2\", 0, 1, rowspan=1, colspan=1)\n",
    "track_3 = layout.add_track(\"test_3\", 1, 0, rowspan=1, colspan=2)\n",
    "\n",
    "display = GraphicDisp()\n",
    "display.set_displayed_item(layout)\n",
    "\n",
    "hBox = HBox()\n",
    "vBox = VBox()\n",
    "\n",
    "b1 = Button(label = \"Button 1\")\n",
    "b2 = Button(label = \"Button 2\")\n",
    "\n",
    "hBox.add_widget(b1)\n",
    "hBox.add_widget(b2)\n",
    "\n",
    "vBox.add_widget(hbox)\n",
    "vBox.add_widget(display)\n",
    "vBox.show()"
   ]
  },
  {
   "cell_type": "markdown",
   "metadata": {},
   "source": [
    "Toggleable buttons can be created with a label, an optional icon and the default state of the button. The icon has to specifically specified based on the choosen backend. See implementations of `BaseToggleButton` in their respective backends. You can use `add_on_toggle(...)` and `remove_on_toggle(...)` to add and remove callbacks. The callbacks will recieve the a boolean value that expresses the current state, `True` when toggled and `False` when untoggled."
   ]
  },
  {
   "cell_type": "code",
   "execution_count": null,
   "metadata": {},
   "outputs": [],
   "source": [
    "toggle = ToggleButton(\"Test\", None, True)\n",
    "toggle.show()\n",
    "\n",
    "print_func = lambda x: print(x)\n",
    "toggle.add_on_toggle(print_func)"
   ]
  },
  {
   "cell_type": "markdown",
   "metadata": {},
   "source": [
    "Toolbars are created with a list of labels and a list of values. You can use `add_on_active_changed(...)` and `remove_on_active_changed(...)` to add and remove callbacks. The callbacks will recieve the specified value for the button that was selected."
   ]
  },
  {
   "cell_type": "code",
   "execution_count": null,
   "metadata": {},
   "outputs": [],
   "source": [
    "toolbar = Toolbar(labels=[\"Option 1\", \"Option 2\", \"Option 3\"], values=[\"Value 1\", 2, \"Value 3\"])\n",
    "toolbar.show()\n",
    "\n",
    "print_func = lambda x: print(x)\n",
    "toolbar.add_on_active_changed(print_func)"
   ]
  }
 ],
 "metadata": {
  "kernelspec": {
   "display_name": "pyavis",
   "language": "python",
   "name": "python3"
  },
  "language_info": {
   "codemirror_mode": {
    "name": "ipython",
    "version": 3
   },
   "file_extension": ".py",
   "mimetype": "text/x-python",
   "name": "python",
   "nbconvert_exporter": "python",
   "pygments_lexer": "ipython3",
   "version": "3.10.12"
  },
  "orig_nbformat": 4
 },
 "nbformat": 4,
 "nbformat_minor": 2
}
