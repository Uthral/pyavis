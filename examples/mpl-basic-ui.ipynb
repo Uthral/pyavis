{
 "cells": [
  {
   "cell_type": "code",
   "execution_count": 2,
   "metadata": {},
   "outputs": [
    {
     "name": "stdout",
     "output_type": "stream",
     "text": [
      "The autoreload extension is already loaded. To reload it, use:\n",
      "  %reload_ext autoreload\n"
     ]
    }
   ],
   "source": [
    "%load_ext autoreload\n",
    "%autoreload 2"
   ]
  },
  {
   "cell_type": "code",
   "execution_count": 8,
   "metadata": {},
   "outputs": [
    {
     "data": {
      "application/vnd.jupyter.widget-view+json": {
       "model_id": "0b03c30fadc14d4e8cc5d411a58c4d0b",
       "version_major": 2,
       "version_minor": 0
      },
      "text/plain": [
       "HBox(children=(Button(description='Hello', style=ButtonStyle()), Button(description='World', style=ButtonStyle…"
      ]
     },
     "execution_count": 8,
     "metadata": {},
     "output_type": "execute_result"
    },
    {
     "name": "stdout",
     "output_type": "stream",
     "text": [
      "Hello\n",
      "World\n",
      "Hello\n",
      "World\n",
      "Hello\n",
      "World\n",
      "Hello\n",
      "World\n"
     ]
    }
   ],
   "source": [
    "from pyavis import create_button, create_vbox, create_hbox, use_backend\n",
    "\n",
    "use_backend(\"ipywidgets\")\n",
    "\n",
    "vbox = create_vbox()\n",
    "b1 = create_button(onClick = lambda: print(\"Hello\"), label=\"Hello\")\n",
    "b2 = create_button(onClick = lambda: print(\"World\"), label=\"World\")\n",
    "\n",
    "vbox.add_widget(b1)\n",
    "vbox.add_widget(b2)\n",
    "\n",
    "vbox.get_native_widget()"
   ]
  }
 ],
 "metadata": {
  "kernelspec": {
   "display_name": "pyavis",
   "language": "python",
   "name": "python3"
  },
  "language_info": {
   "codemirror_mode": {
    "name": "ipython",
    "version": 3
   },
   "file_extension": ".py",
   "mimetype": "text/x-python",
   "name": "python",
   "nbconvert_exporter": "python",
   "pygments_lexer": "ipython3",
   "version": "3.10.12"
  },
  "orig_nbformat": 4
 },
 "nbformat": 4,
 "nbformat_minor": 2
}
