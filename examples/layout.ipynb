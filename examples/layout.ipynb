{
 "cells": [
  {
   "cell_type": "code",
   "execution_count": null,
   "metadata": {},
   "outputs": [],
   "source": [
    "from pyavis import use_backend\n",
    "\n",
    "%matplotlib widget\n",
    "use_backend(\"ipywidgets\")\n",
    "\n",
    "# %gui qt\n",
    "# use_backend(\"qt\")"
   ]
  },
  {
   "cell_type": "markdown",
   "metadata": {},
   "source": [
    "The `GraphicDisp` widget can be used to display graphical elements. It uses a `Layout` to display different plots.\n",
    "\n",
    "You can use `Layout` to add plot areas with different sizes. You can provide `Layout` with the amount of columns and rows you want to use and add plots with a starting index, beginning at 0 for both columns and rows, and a columnspan and rowspan size."
   ]
  },
  {
   "cell_type": "code",
   "execution_count": null,
   "metadata": {},
   "outputs": [],
   "source": [
    "from pyavis.graphics import Layout\n",
    "from pyavis.widgets import GraphicDisp\n",
    "\n",
    "layout = Layout(2,2)\n",
    "\n",
    "track_1 = layout.add_track(\"test_1\", 0, 0, rowspan=1, colspan=1)\n",
    "track_2 = layout.add_track(\"test_2\", 0, 1, rowspan=1, colspan=1)\n",
    "track_3 = layout.add_track(\"test_3\", 1, 0, rowspan=1, colspan=2)\n",
    "\n",
    "display = GraphicDisp()\n",
    "display.set_displayed_item(layout)\n",
    "display.show()"
   ]
  }
 ],
 "metadata": {
  "kernelspec": {
   "display_name": "pyavis",
   "language": "python",
   "name": "python3"
  },
  "language_info": {
   "codemirror_mode": {
    "name": "ipython",
    "version": 3
   },
   "file_extension": ".py",
   "mimetype": "text/x-python",
   "name": "python",
   "nbconvert_exporter": "python",
   "pygments_lexer": "ipython3",
   "version": "3.10.13"
  },
  "orig_nbformat": 4
 },
 "nbformat": 4,
 "nbformat_minor": 2
}
