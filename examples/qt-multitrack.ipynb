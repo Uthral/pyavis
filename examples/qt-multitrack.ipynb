{
 "cells": [
  {
   "cell_type": "code",
   "execution_count": 1,
   "metadata": {},
   "outputs": [],
   "source": [
    "%load_ext autoreload\n",
    "%autoreload 2"
   ]
  },
  {
   "cell_type": "code",
   "execution_count": 2,
   "metadata": {},
   "outputs": [],
   "source": [
    "%gui qt"
   ]
  },
  {
   "cell_type": "code",
   "execution_count": 3,
   "metadata": {},
   "outputs": [
    {
     "name": "stdout",
     "output_type": "stream",
     "text": [
      "idx Device Name              INP OUT    SR   INP-(Lo|Hi)  OUT-(Lo/Hi) (Latency in ms)\n",
      "0   Microsoft Soundmapper - Input   2   0 44100     90    180    90    180\n",
      "1   Kopfhörermikrofon (HyperX Virtu   2   0 44100     90    180    90    180\n",
      "2   Mikrofonarray (Realtek(R) Audio   2   0 44100     90    180    90    180\n",
      "3   Microsoft Soundmapper - Output   0   2 44100     90    180    90    180\n",
      "4   Kopfhörer (HyperX Virtual Surro   0   2 44100     90    180    90    180\n",
      "5   Lautsprecher (Realtek(R) Audio)   0   2 44100     90    180    90    180\n",
      "6   Primärer Soundaufnahmetreiber   2   0 44100 1.2e+02    240     0      0\n",
      "7   Kopfhörermikrofon (HyperX Virtual Surround Sound)   2   0 44100 1.2e+02    240     0      0\n",
      "8   Mikrofonarray (Realtek(R) Audio)   2   0 44100 1.2e+02    240     0      0\n",
      "9   Primärer Soundtreiber      0   2 44100      0      01.2e+02    240\n",
      "10  Kopfhörer (HyperX Virtual Surround Sound)   0   2 44100      0      01.2e+02    240\n",
      "11  Lautsprecher (Realtek(R) Audio)   0   2 44100      0      01.2e+02    240\n",
      "12  Kopfhörer (HyperX Virtual Surround Sound)   0   2 48000      0      0     3     10\n",
      "13  Lautsprecher (Realtek(R) Audio)   0   2 48000      0      0     3     11\n",
      "14  Kopfhörermikrofon (HyperX Virtual Surround Sound)   2   0 48000      3     10     0      0\n",
      "15  Mikrofonarray (Realtek(R) Audio)   2   0 48000      3     10     0      0\n",
      "16  Speakers 1 (Realtek HD Audio output with HAP)   0   2 48000     10     40    10     40\n",
      "17  Speakers 2 (Realtek HD Audio output with HAP)   0   2 44100     10     40    10     40\n",
      "18  PC-Lautsprecher (Realtek HD Audio output with HAP)   2   0 44100     10     40    10     40\n",
      "19  Mikrofon (Realtek HD Audio Mic input)   2   0 44100     10     40    10     40\n",
      "20  Stereomix (Realtek HD Audio Stereo input)   2   0 48000     10     40    10     40\n",
      "21  Mikrofonarray (Realtek HD Audio Mic Array input)   2   0 44100     10     40    10     40\n",
      "22  Headphones (Realtek HD Audio 2nd output)   0   2 44100     10     40    10     40\n",
      "23  Speakers (Nahimic Easy Surround)   0   8 48000     10     40    10     40\n",
      "24  Speakers (Nahimic mirroring Wave Speaker)   0   2 44100     10     40    10     40\n",
      "25  Kopfhörermikrofon (HyperX Virtual Surround Sound)   2   0 44100     10     85    10     85\n",
      "26  Kopfhörer (HyperX Virtual Surround Sound)   0   2 44100     10     85    10     85\n"
     ]
    }
   ],
   "source": [
    "from pyavis.pyqt import DeviceSelector\n",
    "from pyavis.shared.util.device_helper import DeviceInfo\n",
    "from pya import Aserver, startup\n",
    "\n",
    "s = None\n",
    "def on_value_change(device_info: DeviceInfo):\n",
    "    global s\n",
    "    if s:\n",
    "        Aserver.shutdown_default_server()\n",
    "    device_id = device_info.index\n",
    "    try:\n",
    "        s = startup(device=device_id)\n",
    "    except:\n",
    "        pass\n",
    "\n",
    "selector = DeviceSelector(callback=on_value_change)\n",
    "selector.show()"
   ]
  },
  {
   "cell_type": "code",
   "execution_count": 14,
   "metadata": {},
   "outputs": [],
   "source": [
    "from pyavis import create_multitrack, use_backend\n",
    "from pyavis.shared.multitrack import MultiTrack, Track\n",
    "from pyavis.shared import AudioSignal\n",
    "from pya import Asig\n",
    "\n",
    "import numpy as np\n",
    "\n",
    "values1 = np.sin(2 * np.pi * 15 * np.linspace(0, 1, 44100))\n",
    "values2 = np.sin(2 * np.pi * 100 * np.linspace(0, 1, 44100))\n",
    "values3 = np.sin(2 * np.pi * 2 * np.linspace(0, 1, 44100))\n",
    "signal1 = AudioSignal(Asig(values1))\n",
    "signal2 = AudioSignal(Asig(values2))\n",
    "signal3 = AudioSignal(Asig(values3))\n",
    "\n",
    "track1 = Track(\"track_1\", 44100)\n",
    "track2 = Track(\"track_2\", 44100)\n",
    "track1.try_add(0, signal1)\n",
    "track2.try_add(0, signal2)\n",
    "track1.try_add(150000, signal3)\n",
    "\n",
    "m_track = MultiTrack()\n",
    "m_track.add_track(track1)\n",
    "m_track.add_track(track2)\n",
    "\n",
    "use_backend(\"qt\")\n",
    "t = create_multitrack(multi_track=m_track)\n",
    "w = t.get_native_widget()\n",
    "w.show()\n",
    "\n"
   ]
  },
  {
   "cell_type": "code",
   "execution_count": 15,
   "metadata": {},
   "outputs": [],
   "source": [
    "t.add_selection([1], 3000, 40000)\n",
    "first = t.selections[0]"
   ]
  },
  {
   "cell_type": "code",
   "execution_count": 17,
   "metadata": {},
   "outputs": [],
   "source": [
    "first.add_index(1)\n",
    "first.remove_index(0)"
   ]
  }
 ],
 "metadata": {
  "kernelspec": {
   "display_name": "pyavis",
   "language": "python",
   "name": "python3"
  },
  "language_info": {
   "codemirror_mode": {
    "name": "ipython",
    "version": 3
   },
   "file_extension": ".py",
   "mimetype": "text/x-python",
   "name": "python",
   "nbconvert_exporter": "python",
   "pygments_lexer": "ipython3",
   "version": "3.10.12"
  },
  "orig_nbformat": 4
 },
 "nbformat": 4,
 "nbformat_minor": 2
}
