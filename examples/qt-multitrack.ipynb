{
 "cells": [
  {
   "cell_type": "code",
   "execution_count": 49,
   "metadata": {},
   "outputs": [
    {
     "name": "stdout",
     "output_type": "stream",
     "text": [
      "The autoreload extension is already loaded. To reload it, use:\n",
      "  %reload_ext autoreload\n"
     ]
    }
   ],
   "source": [
    "%load_ext autoreload\n",
    "%autoreload 2"
   ]
  },
  {
   "cell_type": "code",
   "execution_count": 50,
   "metadata": {},
   "outputs": [],
   "source": [
    "%gui qt"
   ]
  },
  {
   "cell_type": "code",
   "execution_count": null,
   "metadata": {},
   "outputs": [],
   "source": [
    "from pyavis.pyqt import DeviceSelector\n",
    "from pyavis.shared.util.device_helper import DeviceInfo\n",
    "from pya import Aserver, startup\n",
    "\n",
    "s = None\n",
    "def on_value_change(device_info: DeviceInfo):\n",
    "    global s\n",
    "    if s:\n",
    "        Aserver.shutdown_default_server()\n",
    "    device_id = device_info.index\n",
    "    try:\n",
    "        s = startup(device=device_id)\n",
    "    except:\n",
    "        pass\n",
    "\n",
    "selector = DeviceSelector(callback=on_value_change)\n",
    "selector.show()"
   ]
  },
  {
   "cell_type": "code",
   "execution_count": 51,
   "metadata": {},
   "outputs": [
    {
     "name": "stdout",
     "output_type": "stream",
     "text": [
      "Add\n",
      "Add\n",
      "Add\n",
      "Add\n",
      "Add\n",
      "Add\n",
      "Add\n",
      "Add\n",
      "Add\n",
      "Add\n",
      "Add\n",
      "Add\n",
      "Add\n",
      "Add\n",
      "Add\n",
      "Add\n",
      "Add\n",
      "Add\n",
      "Add\n",
      "Add\n"
     ]
    }
   ],
   "source": [
    "from pyavis import create_multitrack, use_backend\n",
    "from pyavis.shared.multitrack import MultiTrack, Track\n",
    "from pyavis.shared import Signal\n",
    "\n",
    "import numpy as np\n",
    "\n",
    "values1 = np.sin(2 * np.pi * 15 * np.linspace(0, 1, 44100))\n",
    "values2 = np.sin(2 * np.pi * 100 * np.linspace(0, 1, 44100))\n",
    "values3 = np.sin(2 * np.pi * 2 * np.linspace(0, 1, 44100))\n",
    "signal1 = Signal(values1)\n",
    "signal2 = Signal(values2)\n",
    "signal3 = Signal(values3)\n",
    "\n",
    "track1 = Track()\n",
    "track2 = Track()\n",
    "track1.try_add(0, signal1)\n",
    "track2.try_add(0, signal2)\n",
    "track1.try_add(150000, signal3)\n",
    "\n",
    "m_track = MultiTrack()\n",
    "m_track.add_track(track1)\n",
    "m_track.add_track(track2)\n",
    "\n",
    "use_backend(\"qt\")\n",
    "t = create_multitrack(multi_track=m_track)\n",
    "w = t.get_native_widget()\n",
    "w.show()"
   ]
  }
 ],
 "metadata": {
  "kernelspec": {
   "display_name": "pyavis",
   "language": "python",
   "name": "python3"
  },
  "language_info": {
   "codemirror_mode": {
    "name": "ipython",
    "version": 3
   },
   "file_extension": ".py",
   "mimetype": "text/x-python",
   "name": "python",
   "nbconvert_exporter": "python",
   "pygments_lexer": "ipython3",
   "version": "3.10.12"
  },
  "orig_nbformat": 4
 },
 "nbformat": 4,
 "nbformat_minor": 2
}
