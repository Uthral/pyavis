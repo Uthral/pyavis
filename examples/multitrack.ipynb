{
 "cells": [
  {
   "cell_type": "code",
   "execution_count": null,
   "metadata": {},
   "outputs": [],
   "source": [
    "%load_ext autoreload\n",
    "%autoreload 2\n",
    "\n",
    "import csv\n",
    "import numpy as np\n",
    "\n",
    "from pyavis import use_backend\n",
    "\n",
    "# %matplotlib widget\n",
    "# use_backend(\"ipywidgets\")\n",
    "# import matplotlib\n",
    "# matplotlib.pyplot.ioff()\n",
    "\n",
    "%gui qt\n",
    "use_backend(\"qt\")"
   ]
  },
  {
   "cell_type": "code",
   "execution_count": null,
   "metadata": {},
   "outputs": [],
   "source": [
    "channel_dict = {}\n",
    "with open('data/epileptic-eeg-352n-2nd.csv', 'r') as file:\n",
    "    csv_file = csv.DictReader(file)\n",
    "    for row in csv_file:\n",
    "        for key, value in row.items():\n",
    "            if key in channel_dict:\n",
    "                channel_dict[key].append(float(value))\n",
    "            else:\n",
    "                channel_dict[key] = []\n",
    "\n",
    "for key, value in channel_dict.items():\n",
    "    channel_dict[key] = np.array(value)\n",
    "\n",
    "signals = []\n",
    "for key, value in channel_dict.items():\n",
    "    signals.append((key, value))\n",
    "    "
   ]
  },
  {
   "cell_type": "code",
   "execution_count": null,
   "metadata": {},
   "outputs": [],
   "source": [
    "from pya import Asig\n",
    "from pyavis import create_multitrack\n",
    "from pyavis.shared.multitrack import Track, MultiTrack\n",
    "from pyavis.shared.signal import AudioSignal\n",
    "\n",
    "\n",
    "\n",
    "values1 = np.sin(2 * np.pi * 15 * np.linspace(0, 1, 44100))\n",
    "values2 = np.sin(2 * np.pi * 100 * np.linspace(0, 1, 44100))\n",
    "\n",
    "signal1 = AudioSignal(Asig(values1))\n",
    "signal2 = AudioSignal(Asig(values2))\n",
    "\n",
    "track1 = Track(signals[0][0], 44100)\n",
    "track2 = Track(signals[1][0], 44100)\n",
    "track1.try_add(0, signal1)\n",
    "track2.try_add(44100 * 3, signal2)\n",
    "track2.try_add(0, signal2)\n",
    "\n",
    "m_track = MultiTrack()\n",
    "\n",
    "m_vis = create_multitrack()\n",
    "m_vis.show()"
   ]
  },
  {
   "cell_type": "code",
   "execution_count": null,
   "metadata": {},
   "outputs": [],
   "source": [
    "m_track = m_vis.add_track(\"test_1\", 44100)\n",
    "m_track.add_signal(0, signal1)\n",
    "m_track = m_vis.add_track(\"test_2\", 44100)"
   ]
  },
  {
   "cell_type": "code",
   "execution_count": null,
   "metadata": {},
   "outputs": [],
   "source": [
    "m_vis.add_selection([0], 500, 40000)"
   ]
  }
 ],
 "metadata": {
  "kernelspec": {
   "display_name": "pyavis",
   "language": "python",
   "name": "python3"
  },
  "language_info": {
   "codemirror_mode": {
    "name": "ipython",
    "version": 3
   },
   "file_extension": ".py",
   "mimetype": "text/x-python",
   "name": "python",
   "nbconvert_exporter": "python",
   "pygments_lexer": "ipython3",
   "version": "3.10.12"
  },
  "orig_nbformat": 4
 },
 "nbformat": 4,
 "nbformat_minor": 2
}
