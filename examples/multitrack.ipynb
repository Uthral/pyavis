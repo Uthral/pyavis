{
 "cells": [
  {
   "cell_type": "code",
   "execution_count": null,
   "metadata": {},
   "outputs": [],
   "source": [
    "%load_ext autoreload\n",
    "%autoreload 2"
   ]
  },
  {
   "cell_type": "code",
   "execution_count": null,
   "metadata": {},
   "outputs": [],
   "source": [
    "import csv\n",
    "import numpy as np"
   ]
  },
  {
   "cell_type": "code",
   "execution_count": null,
   "metadata": {},
   "outputs": [],
   "source": [
    "channel_dict = {}\n",
    "with open('data/epileptic-eeg-352n-2nd.csv', 'r') as file:\n",
    "    csv_file = csv.DictReader(file)\n",
    "    for row in csv_file:\n",
    "        for key, value in row.items():\n",
    "            if key in channel_dict:\n",
    "                channel_dict[key].append(float(value))\n",
    "            else:\n",
    "                channel_dict[key] = []\n",
    "    "
   ]
  },
  {
   "cell_type": "code",
   "execution_count": null,
   "metadata": {},
   "outputs": [],
   "source": [
    "for key, value in channel_dict.items():\n",
    "    channel_dict[key] = np.array(value)"
   ]
  },
  {
   "cell_type": "code",
   "execution_count": null,
   "metadata": {},
   "outputs": [],
   "source": [
    "from pyavis import use_backend\n",
    "\n",
    "%matplotlib widget\n",
    "use_backend(\"ipywidgets\")\n",
    "import matplotlib\n",
    "matplotlib.pyplot.ioff()\n",
    "\n",
    "# %gui qt\n",
    "# use_backend(\"qt\")"
   ]
  },
  {
   "cell_type": "code",
   "execution_count": null,
   "metadata": {},
   "outputs": [],
   "source": [
    "from pya import Asig\n",
    "from pyavis import create_multitrack\n",
    "from pyavis.shared.multitrack import Track, MultiTrack\n",
    "from pyavis.shared.signal import AudioSignal\n",
    "\n",
    "values1 = np.sin(2 * np.pi * 15 * np.linspace(0, 1, 44100))\n",
    "values2 = np.sin(2 * np.pi * 100 * np.linspace(0, 1, 44100))\n",
    "values3 = np.sin(2 * np.pi * 2 * np.linspace(0, 1, 44100))\n",
    "signal1 = AudioSignal(Asig(values1))\n",
    "signal2 = AudioSignal(Asig(values2))\n",
    "signal3 = AudioSignal(Asig(values3))\n",
    "\n",
    "track1 = Track(\"track_1\", 44100)\n",
    "track2 = Track(\"track_2\", 44100)\n",
    "track1.try_add(0, signal1)\n",
    "track2.try_add(0, signal2)\n",
    "track1.try_add(150000, signal3)\n",
    "\n",
    "m_track = MultiTrack()\n",
    "m_track.add_track(track1)\n",
    "m_track.add_track(track2)\n",
    "\n",
    "m_vis = create_multitrack(multi_track=m_track)\n",
    "w = m_vis.get_native_widget()\n",
    "\n",
    "w.canvas"
   ]
  },
  {
   "cell_type": "code",
   "execution_count": null,
   "metadata": {},
   "outputs": [],
   "source": [
    "selection_1 = m_vis.add_selection([0,1], 3000, 40000)\n",
    "selection_2 = m_vis.add_selection([1], 70000, 90000)"
   ]
  },
  {
   "cell_type": "code",
   "execution_count": null,
   "metadata": {},
   "outputs": [],
   "source": [
    "selection_1.remove_index(0)"
   ]
  }
 ],
 "metadata": {
  "kernelspec": {
   "display_name": "pyavis",
   "language": "python",
   "name": "python3"
  },
  "language_info": {
   "codemirror_mode": {
    "name": "ipython",
    "version": 3
   },
   "file_extension": ".py",
   "mimetype": "text/x-python",
   "name": "python",
   "nbconvert_exporter": "python",
   "pygments_lexer": "ipython3",
   "version": "3.10.12"
  },
  "orig_nbformat": 4
 },
 "nbformat": 4,
 "nbformat_minor": 2
}
