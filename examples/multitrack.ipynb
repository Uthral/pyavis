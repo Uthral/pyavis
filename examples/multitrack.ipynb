{
 "cells": [
  {
   "cell_type": "code",
   "execution_count": 1,
   "metadata": {},
   "outputs": [],
   "source": [
    "%load_ext autoreload\n",
    "%autoreload 2\n",
    "\n",
    "import csv\n",
    "import numpy as np\n",
    "\n",
    "from pyavis import use_backend\n",
    "\n",
    "# %matplotlib widget\n",
    "# use_backend(\"ipywidgets\")\n",
    "# import matplotlib\n",
    "# matplotlib.pyplot.ioff()\n",
    "\n",
    "%gui qt\n",
    "use_backend(\"qt\")"
   ]
  },
  {
   "cell_type": "code",
   "execution_count": 2,
   "metadata": {},
   "outputs": [],
   "source": [
    "channel_dict = {}\n",
    "with open('data/epileptic-eeg-352n-2nd.csv', 'r') as file:\n",
    "    csv_file = csv.DictReader(file)\n",
    "    for row in csv_file:\n",
    "        for key, value in row.items():\n",
    "            if key in channel_dict:\n",
    "                channel_dict[key].append(float(value))\n",
    "            else:\n",
    "                channel_dict[key] = []\n",
    "\n",
    "for key, value in channel_dict.items():\n",
    "    channel_dict[key] = np.array(value)\n",
    "\n",
    "signals = []\n",
    "for key, value in channel_dict.items():\n",
    "    signals.append((key, value))\n",
    "    "
   ]
  },
  {
   "cell_type": "code",
   "execution_count": 3,
   "metadata": {},
   "outputs": [],
   "source": [
    "from pya import Asig\n",
    "from pyavis import create_multitrack\n",
    "from pyavis.shared.multitrack import Track, MultiTrack\n",
    "from pyavis.shared.signal import AudioSignal\n",
    "\n",
    "\n",
    "\n",
    "values1 = np.sin(2 * np.pi * 15 * np.linspace(0, 1, 44100))\n",
    "values2 = np.sin(2 * np.pi * 3 * np.linspace(0, 1, 44100))\n",
    "\n",
    "signal1 = AudioSignal(Asig(values1))\n",
    "signal2 = AudioSignal(Asig(values2))\n",
    "\n",
    "m_track = MultiTrack()\n",
    "\n",
    "m_vis = create_multitrack()\n",
    "m_vis.show()"
   ]
  },
  {
   "cell_type": "code",
   "execution_count": 4,
   "metadata": {},
   "outputs": [],
   "source": [
    "track_1 = m_vis.add_track(\"test_1\", 44100)\n",
    "track_2 = m_vis.add_track(\"test_2\", 44100)\n",
    "track_3 = m_vis.add_track(\"test_3\", 44100)\n",
    "\n",
    "track_1.add_signal(0, signal1)\n",
    "track_2.add_signal(44100, signal2)\n",
    "track_3.add_signal(44100, signal1)"
   ]
  },
  {
   "cell_type": "code",
   "execution_count": 17,
   "metadata": {},
   "outputs": [
    {
     "name": "stdout",
     "output_type": "stream",
     "text": [
      "88200\n"
     ]
    }
   ],
   "source": [
    "a = m_vis[0:300:2]\n",
    "b = m_vis[\"test_2\"]\n",
    "c = m_vis[0:30000, :2]\n",
    "d = m_vis[[0,2]]\n",
    "e = m_vis[0]\n",
    "f = m_vis[[\"test_1\",\"test_2\"]]\n",
    "g = m_vis[{1:2.5}, :]\n"
   ]
  }
 ],
 "metadata": {
  "kernelspec": {
   "display_name": "pyavis",
   "language": "python",
   "name": "python3"
  },
  "language_info": {
   "codemirror_mode": {
    "name": "ipython",
    "version": 3
   },
   "file_extension": ".py",
   "mimetype": "text/x-python",
   "name": "python",
   "nbconvert_exporter": "python",
   "pygments_lexer": "ipython3",
   "version": "3.10.12"
  },
  "orig_nbformat": 4
 },
 "nbformat": 4,
 "nbformat_minor": 2
}
