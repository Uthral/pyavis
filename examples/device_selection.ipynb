{
 "cells": [
  {
   "cell_type": "code",
   "execution_count": null,
   "metadata": {},
   "outputs": [],
   "source": [
    "%load_ext autoreload\n",
    "%autoreload 2\n",
    "\n",
    "from pyavis import use_backend\n",
    "\n",
    "%gui qt\n",
    "use_backend(\"qt\")"
   ]
  },
  {
   "cell_type": "code",
   "execution_count": null,
   "metadata": {},
   "outputs": [],
   "source": [
    "from pyavis.shared.util import getInOutDevices\n",
    "from pyavis import create_hbox, create_drop_down\n",
    "\n",
    "import pya\n",
    "import numpy as np\n",
    "\n",
    "(input_list, output_list) = getInOutDevices()\n",
    "input_devices = input_list\n",
    "output_devices = output_list\n",
    "\n",
    "hb = create_hbox()\n",
    "dd = create_drop_down(\"Output\", [device.as_output_str() for device in output_devices])\n",
    "hb.add_widget(dd)\n",
    "\n",
    "server = None\n",
    "def on_value_change(idx: int):\n",
    "    global server, output_devices\n",
    "    if server:\n",
    "        pya.Aserver.shutdown_default_server()\n",
    "    server = pya.startup(device=output_devices[idx].index) \n",
    "\n",
    "dd.add_on_selection_changed(on_value_change)\n",
    "hb.show()"
   ]
  },
  {
   "cell_type": "code",
   "execution_count": null,
   "metadata": {},
   "outputs": [],
   "source": [
    "signal_array = np.sin(2 * np.pi * 200 * np.linspace(0, 1, 44100))\n",
    "atone = pya.Asig(signal_array, sr=44100, label='1s sine tone', cn=['left'])"
   ]
  },
  {
   "cell_type": "code",
   "execution_count": null,
   "metadata": {},
   "outputs": [],
   "source": [
    "atone.play()"
   ]
  }
 ],
 "metadata": {
  "kernelspec": {
   "display_name": "pyavis",
   "language": "python",
   "name": "python3"
  },
  "language_info": {
   "codemirror_mode": {
    "name": "ipython",
    "version": 3
   },
   "file_extension": ".py",
   "mimetype": "text/x-python",
   "name": "python",
   "nbconvert_exporter": "python",
   "pygments_lexer": "ipython3",
   "version": "3.10.12"
  },
  "orig_nbformat": 4
 },
 "nbformat": 4,
 "nbformat_minor": 2
}
