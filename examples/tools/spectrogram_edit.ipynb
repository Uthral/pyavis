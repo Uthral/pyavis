{
 "cells": [
  {
   "cell_type": "code",
   "execution_count": null,
   "metadata": {},
   "outputs": [],
   "source": [
    "import pya\n",
    "import pyavis\n",
    "from pyavis.tools import SpectrogramEraser, DeviceSelector\n",
    "\n",
    "# %matplotlib widget\n",
    "# pyavis.use_backend(\"ipywidgets\")\n",
    "\n",
    "%gui qt\n",
    "pyavis.use_backend(\"qt\")"
   ]
  },
  {
   "cell_type": "code",
   "execution_count": null,
   "metadata": {},
   "outputs": [],
   "source": [
    "selector = DeviceSelector(\"output\")\n",
    "eraser = SpectrogramEraser()\n",
    "eraser.show()\n",
    "selector.show()"
   ]
  },
  {
   "cell_type": "code",
   "execution_count": null,
   "metadata": {},
   "outputs": [],
   "source": [
    "import os\n",
    "\n",
    "TEST_FILE = os.path.join(os.path.abspath('..'), \"data\\\\stereoTest.wav\")\n",
    "signal = pya.Asig(TEST_FILE).mono()\n",
    "\n",
    "eraser.set_signal(signal)\n",
    "eraser.set_eraser(15,15)"
   ]
  },
  {
   "cell_type": "code",
   "execution_count": null,
   "metadata": {},
   "outputs": [],
   "source": [
    "eraser.set_eraser(15, 3)"
   ]
  }
 ],
 "metadata": {
  "kernelspec": {
   "display_name": "pyavis",
   "language": "python",
   "name": "python3"
  },
  "language_info": {
   "codemirror_mode": {
    "name": "ipython",
    "version": 3
   },
   "file_extension": ".py",
   "mimetype": "text/x-python",
   "name": "python",
   "nbconvert_exporter": "python",
   "pygments_lexer": "ipython3",
   "version": "3.10.13"
  },
  "orig_nbformat": 4
 },
 "nbformat": 4,
 "nbformat_minor": 2
}
