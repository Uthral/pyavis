{
 "cells": [
  {
   "cell_type": "code",
   "execution_count": null,
   "metadata": {},
   "outputs": [],
   "source": [
    "%matplotlib widget\n",
    "%gui qt"
   ]
  },
  {
   "cell_type": "code",
   "execution_count": null,
   "metadata": {},
   "outputs": [],
   "source": [
    "import pya\n",
    "import pyavis\n",
    "from pyavis.tools import SpectrogramEdit, DeviceSelector\n",
    "\n",
    "if True:\n",
    "    pyavis.use_backend(\"ipywidgets\")\n",
    "else:\n",
    "    pyavis.use_backend(\"qt\")"
   ]
  },
  {
   "cell_type": "code",
   "execution_count": null,
   "metadata": {},
   "outputs": [],
   "source": [
    "selector = DeviceSelector()\n",
    "edit = SpectrogramEdit()\n",
    "edit.show()\n",
    "selector.show()"
   ]
  },
  {
   "cell_type": "code",
   "execution_count": null,
   "metadata": {},
   "outputs": [],
   "source": [
    "import numpy as np\n",
    "import os\n",
    "\n",
    "TEST_FILE = os.path.join(os.path.abspath('..\\..'), \"data\\\\stereoTest.wav\")\n",
    "signal = pya.Asig(TEST_FILE).mono()\n",
    "\n",
    "edit.set_signal(signal.to_stft().to_sig().to_stft().to_sig())\n",
    "edit.set_brush([0] * np.ones((30,5)), (15,2))"
   ]
  },
  {
   "cell_type": "code",
   "execution_count": null,
   "metadata": {},
   "outputs": [],
   "source": [
    "edit._signal.norm().play()"
   ]
  }
 ],
 "metadata": {
  "kernelspec": {
   "display_name": "pyavis",
   "language": "python",
   "name": "python3"
  },
  "language_info": {
   "codemirror_mode": {
    "name": "ipython",
    "version": 3
   },
   "file_extension": ".py",
   "mimetype": "text/x-python",
   "name": "python",
   "nbconvert_exporter": "python",
   "pygments_lexer": "ipython3",
   "version": "3.10.12"
  },
  "orig_nbformat": 4
 },
 "nbformat": 4,
 "nbformat_minor": 2
}
