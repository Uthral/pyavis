{
 "cells": [
  {
   "cell_type": "code",
   "execution_count": 1,
   "metadata": {},
   "outputs": [],
   "source": [
    "%matplotlib widget\n",
    "%gui qt"
   ]
  },
  {
   "cell_type": "code",
   "execution_count": 2,
   "metadata": {},
   "outputs": [],
   "source": [
    "import pya, os\n",
    "import pyavis\n",
    "from pyavis.tools import DeviceSelector, SignalDisplay\n",
    "\n",
    "pyavis.use_backend(\"qt\")"
   ]
  },
  {
   "cell_type": "code",
   "execution_count": 3,
   "metadata": {},
   "outputs": [
    {
     "name": "stdout",
     "output_type": "stream",
     "text": [
      "idx Device Name              INP OUT    SR   INP-(Lo|Hi)  OUT-(Lo/Hi) (Latency in ms)\n",
      "0   Microsoft Soundmapper - Input   2   0 44100     90    180    90    180\n",
      "1   Kopfhörermikrofon (HyperX Virtu   2   0 44100     90    180    90    180\n",
      "2   Mikrofonarray (Realtek(R) Audio   2   0 44100     90    180    90    180\n",
      "3   Microsoft Soundmapper - Output   0   2 44100     90    180    90    180\n",
      "4   Kopfhörer (HyperX Virtual Surro   0   2 44100     90    180    90    180\n",
      "5   Lautsprecher (Realtek(R) Audio)   0   2 44100     90    180    90    180\n",
      "6   Primärer Soundaufnahmetreiber   2   0 44100 1.2e+02    240     0      0\n",
      "7   Kopfhörermikrofon (HyperX Virtual Surround Sound)   2   0 44100 1.2e+02    240     0      0\n",
      "8   Mikrofonarray (Realtek(R) Audio)   2   0 44100 1.2e+02    240     0      0\n",
      "9   Primärer Soundtreiber      0   2 44100      0      01.2e+02    240\n",
      "10  Kopfhörer (HyperX Virtual Surround Sound)   0   2 44100      0      01.2e+02    240\n",
      "11  Lautsprecher (Realtek(R) Audio)   0   2 44100      0      01.2e+02    240\n",
      "12  Kopfhörer (HyperX Virtual Surround Sound)   0   2 48000      0      0     3     10\n",
      "13  Lautsprecher (Realtek(R) Audio)   0   2 48000      0      0     3     11\n",
      "14  Mikrofonarray (Realtek(R) Audio)   2   0 48000      3     10     0      0\n",
      "15  Kopfhörermikrofon (HyperX Virtual Surround Sound)   2   0 48000      3     10     0      0\n",
      "16  Speakers 1 (Realtek HD Audio output with HAP)   0   2 48000     10     40    10     40\n",
      "17  Speakers 2 (Realtek HD Audio output with HAP)   0   2 44100     10     40    10     40\n",
      "18  PC-Lautsprecher (Realtek HD Audio output with HAP)   2   0 44100     10     40    10     40\n",
      "19  Stereomix (Realtek HD Audio Stereo input)   2   0 48000     10     40    10     40\n",
      "20  Mikrofonarray (Realtek HD Audio Mic Array input)   2   0 44100     10     40    10     40\n",
      "21  Mikrofon (Realtek HD Audio Mic input)   2   0 44100     10     40    10     40\n",
      "22  Headphones (Realtek HD Audio 2nd output)   0   2 44100     10     40    10     40\n",
      "23  Speakers (Nahimic Easy Surround)   0   8 48000     10     40    10     40\n",
      "24  Speakers (Nahimic mirroring Wave Speaker)   0   2 44100     10     40    10     40\n",
      "25  Kopfhörermikrofon (HyperX Virtual Surround Sound)   2   0 44100     10     85    10     85\n",
      "26  Kopfhörer (HyperX Virtual Surround Sound)   0   2 44100     10     85    10     85\n"
     ]
    }
   ],
   "source": [
    "selector = DeviceSelector(\"output\")\n",
    "selector.show()\n",
    "display = SignalDisplay()\n",
    "display.show()"
   ]
  },
  {
   "cell_type": "code",
   "execution_count": 4,
   "metadata": {},
   "outputs": [],
   "source": [
    "TEST_FILE = os.path.join(os.path.abspath('..'), \"data\\\\stereoTest.wav\")\n",
    "signal = pya.Asig(TEST_FILE).mono()\n",
    "\n",
    "display.set_signal(signal, 0)"
   ]
  },
  {
   "cell_type": "code",
   "execution_count": 5,
   "metadata": {},
   "outputs": [
    {
     "name": "stderr",
     "output_type": "stream",
     "text": [
      "c:\\Users\\robin\\miniconda3\\envs\\pyavis\\lib\\site-packages\\pya\\asig.py:639: UserWarning: Asig.play: no default server running, nor server arg specified.\n",
      "  warn(\"Asig.play: no default server running, nor server arg specified.\")\n"
     ]
    }
   ],
   "source": [
    "display.set_selection((5000, 15000))"
   ]
  }
 ],
 "metadata": {
  "kernelspec": {
   "display_name": "pyavis",
   "language": "python",
   "name": "python3"
  },
  "language_info": {
   "codemirror_mode": {
    "name": "ipython",
    "version": 3
   },
   "file_extension": ".py",
   "mimetype": "text/x-python",
   "name": "python",
   "nbconvert_exporter": "python",
   "pygments_lexer": "ipython3",
   "version": "3.10.12"
  },
  "orig_nbformat": 4
 },
 "nbformat": 4,
 "nbformat_minor": 2
}
