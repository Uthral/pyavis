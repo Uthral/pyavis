{
 "cells": [
  {
   "cell_type": "code",
   "execution_count": 1,
   "metadata": {},
   "outputs": [],
   "source": [
    "%load_ext autoreload\n",
    "%autoreload 2\n",
    "\n",
    "import csv\n",
    "import numpy as np\n",
    "from pyavis import use_backend\n",
    "\n",
    "# %matplotlib widget\n",
    "# use_backend(\"ipywidgets\")\n",
    "# import matplotlib\n",
    "# matplotlib.pyplot.ioff()\n",
    "\n",
    "%gui qt\n",
    "use_backend(\"qt\")"
   ]
  },
  {
   "cell_type": "code",
   "execution_count": 2,
   "metadata": {},
   "outputs": [],
   "source": [
    "channel_dict = {}\n",
    "with open('data/epileptic-eeg-352n-2nd.csv', 'r') as file:\n",
    "    csv_file = csv.DictReader(file)\n",
    "    for row in csv_file:\n",
    "        for key, value in row.items():\n",
    "            if key in channel_dict:\n",
    "                channel_dict[key].append(float(value))\n",
    "            else:\n",
    "                channel_dict[key] = []\n",
    "\n",
    "for key, value in channel_dict.items():\n",
    "    channel_dict[key] = np.array(value)\n",
    "\n",
    "signals = []\n",
    "for key, value in channel_dict.items():\n",
    "    signals.append((key, value))"
   ]
  },
  {
   "cell_type": "code",
   "execution_count": 3,
   "metadata": {},
   "outputs": [],
   "source": [
    "from matplotlib import pyplot as plt\n",
    "from pya import Asig\n",
    "from pyavis.widgets import DepSpectrogram, VBox\n",
    "\n",
    "sr = 44100\n",
    "# time = 10\n",
    "\n",
    "# modulator = 500 * np.sin(2 * np.pi * 2 * np.arange(sr * time) / float(sr))\n",
    "# carrier_freq = np.sin(2 * np.pi * 9000 * np.arange(sr * time) / float(sr) + modulator * 0)\n",
    "\n",
    "vbox = VBox()\n",
    "\n",
    "for signal in signals[:1]:\n",
    "    sig = Asig(signal[1], sr=sr)\n",
    "    #spec = DepSpectrogram(sig, spec_kw = {'cmap': plt.get_cmap('inferno')})\n",
    "    spec = DepSpectrogram(sig)\n",
    "    vbox.add_widget(spec)\n",
    "\n",
    "vbox.show()"
   ]
  }
 ],
 "metadata": {
  "kernelspec": {
   "display_name": "pyavis",
   "language": "python",
   "name": "python3"
  },
  "language_info": {
   "codemirror_mode": {
    "name": "ipython",
    "version": 3
   },
   "file_extension": ".py",
   "mimetype": "text/x-python",
   "name": "python",
   "nbconvert_exporter": "python",
   "pygments_lexer": "ipython3",
   "version": "3.10.12"
  },
  "orig_nbformat": 4
 },
 "nbformat": 4,
 "nbformat_minor": 2
}
