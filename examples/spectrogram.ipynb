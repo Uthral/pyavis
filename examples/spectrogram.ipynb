{
 "cells": [
  {
   "cell_type": "code",
   "execution_count": 1,
   "metadata": {},
   "outputs": [],
   "source": [
    "%load_ext autoreload\n",
    "%autoreload 2\n",
    "\n",
    "import csv\n",
    "import numpy as np\n",
    "\n",
    "from pyavis import use_backend\n",
    "\n",
    "%gui qt\n",
    "use_backend(\"qt\")"
   ]
  },
  {
   "cell_type": "code",
   "execution_count": 2,
   "metadata": {},
   "outputs": [],
   "source": [
    "from pya import Asig\n",
    "from pyavis import create_spectrogram\n",
    "\n",
    "sr = 44100\n",
    "time = 10\n",
    "\n",
    "modulator = 500 * np.sin(2 * np.pi * 2 * np.arange(sr * time) / float(sr))\n",
    "carrier_freq = np.sin(2 * np.pi * 9000 * np.arange(sr * time) / float(sr) + modulator)\n",
    "\n",
    "sig = Asig(carrier_freq, sr=sr)\n",
    "spec = sig.to_stft(nperseg=1024)\n",
    "\n",
    "spec = create_spectrogram(Asig(carrier_freq))\n",
    "spec.show()"
   ]
  }
 ],
 "metadata": {
  "kernelspec": {
   "display_name": "pyavis",
   "language": "python",
   "name": "python3"
  },
  "language_info": {
   "codemirror_mode": {
    "name": "ipython",
    "version": 3
   },
   "file_extension": ".py",
   "mimetype": "text/x-python",
   "name": "python",
   "nbconvert_exporter": "python",
   "pygments_lexer": "ipython3",
   "version": "3.10.12"
  },
  "orig_nbformat": 4
 },
 "nbformat": 4,
 "nbformat_minor": 2
}
