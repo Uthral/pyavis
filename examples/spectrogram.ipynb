{
 "cells": [
  {
   "cell_type": "code",
   "execution_count": 1,
   "metadata": {},
   "outputs": [],
   "source": [
    "%load_ext autoreload\n",
    "%autoreload 2\n",
    "\n",
    "import csv\n",
    "import numpy as np\n",
    "from pyavis import use_backend\n",
    "\n",
    "%gui qt\n",
    "use_backend(\"qt\")"
   ]
  },
  {
   "cell_type": "code",
   "execution_count": 2,
   "metadata": {},
   "outputs": [],
   "source": [
    "channel_dict = {}\n",
    "with open('data/epileptic-eeg-352n-2nd.csv', 'r') as file:\n",
    "    csv_file = csv.DictReader(file)\n",
    "    for row in csv_file:\n",
    "        for key, value in row.items():\n",
    "            if key in channel_dict:\n",
    "                channel_dict[key].append(float(value))\n",
    "            else:\n",
    "                channel_dict[key] = []\n",
    "\n",
    "for key, value in channel_dict.items():\n",
    "    channel_dict[key] = np.array(value)\n",
    "\n",
    "signals = []\n",
    "for key, value in channel_dict.items():\n",
    "    signals.append((key, value))"
   ]
  },
  {
   "cell_type": "code",
   "execution_count": 3,
   "metadata": {},
   "outputs": [],
   "source": [
    "from pya import Asig\n",
    "from pyavis import create_spectrogram, create_vbox\n",
    "\n",
    "sr = 44100\n",
    "# time = 10\n",
    "\n",
    "# modulator = 500 * np.sin(2 * np.pi * 2 * np.arange(sr * time) / float(sr))\n",
    "# carrier_freq = np.sin(2 * np.pi * 9000 * np.arange(sr * time) / float(sr) + modulator * 0)\n",
    "\n",
    "vbox = create_vbox()\n",
    "\n",
    "for signal in signals:\n",
    "    sig = Asig(signal[1], sr=sr)\n",
    "    spec = create_spectrogram(sig)\n",
    "    vbox.add_widget(spec)\n",
    "\n",
    "    \n",
    "\n",
    "vbox.show()"
   ]
  },
  {
   "cell_type": "code",
   "execution_count": 4,
   "metadata": {},
   "outputs": [],
   "source": [
    "spec.set_brush_data([0.1,0.4,0.5,0.3,0.1]*np.zeros((50,5)), np.ones((50,5)), (24,2), \"set\")\n",
    "spec.draw_mode(True)"
   ]
  }
 ],
 "metadata": {
  "kernelspec": {
   "display_name": "pyavis",
   "language": "python",
   "name": "python3"
  },
  "language_info": {
   "codemirror_mode": {
    "name": "ipython",
    "version": 3
   },
   "file_extension": ".py",
   "mimetype": "text/x-python",
   "name": "python",
   "nbconvert_exporter": "python",
   "pygments_lexer": "ipython3",
   "version": "3.10.12"
  },
  "orig_nbformat": 4
 },
 "nbformat": 4,
 "nbformat_minor": 2
}
