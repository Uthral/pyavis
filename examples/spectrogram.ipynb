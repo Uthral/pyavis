{
 "cells": [
  {
   "cell_type": "code",
   "execution_count": 1,
   "metadata": {},
   "outputs": [],
   "source": [
    "%load_ext autoreload\n",
    "%autoreload 2\n",
    "\n",
    "import csv\n",
    "import numpy as np\n",
    "\n",
    "from pyavis import use_backend\n",
    "\n",
    "%gui qt\n",
    "use_backend(\"qt\")"
   ]
  },
  {
   "cell_type": "code",
   "execution_count": 2,
   "metadata": {},
   "outputs": [],
   "source": [
    "from pya import Asig, ampdb\n",
    "from pyavis import create_spectrogram\n",
    "\n",
    "sr = 44100\n",
    "time = 10\n",
    "\n",
    "modulator = 500 * np.sin(2 * np.pi * 2 * np.arange(sr * time) / float(sr))\n",
    "carrier_freq = np.sin(2 * np.pi * 9000 * np.arange(sr * time) / float(sr) + modulator * 0)\n",
    "\n",
    "sig = Asig(carrier_freq, sr=sr)\n",
    "spec = sig.to_stft(nperseg=256)\n",
    "\n",
    "spec = create_spectrogram(spec)\n",
    "spec.show()"
   ]
  },
  {
   "cell_type": "code",
   "execution_count": 3,
   "metadata": {},
   "outputs": [],
   "source": [
    "spec.set_brush_data([0.1,0.4,0.5,0.3,0.1]*np.ones((25,5)), np.ones((25,5)), (12,2), \"set\")\n",
    "spec.draw(9000, 5)"
   ]
  },
  {
   "cell_type": "code",
   "execution_count": 4,
   "metadata": {},
   "outputs": [],
   "source": [
    "spec.draw_mode(True)"
   ]
  },
  {
   "cell_type": "code",
   "execution_count": null,
   "metadata": {},
   "outputs": [],
   "source": [
    "spec.reset()"
   ]
  },
  {
   "cell_type": "code",
   "execution_count": 6,
   "metadata": {},
   "outputs": [],
   "source": [
    "asig_edited = spec.return_as_asig()\n",
    "spec_edited = create_spectrogram(asig_edited)\n",
    "spec_edited.show()"
   ]
  }
 ],
 "metadata": {
  "kernelspec": {
   "display_name": "pyavis",
   "language": "python",
   "name": "python3"
  },
  "language_info": {
   "codemirror_mode": {
    "name": "ipython",
    "version": 3
   },
   "file_extension": ".py",
   "mimetype": "text/x-python",
   "name": "python",
   "nbconvert_exporter": "python",
   "pygments_lexer": "ipython3",
   "version": "3.10.12"
  },
  "orig_nbformat": 4
 },
 "nbformat": 4,
 "nbformat_minor": 2
}
