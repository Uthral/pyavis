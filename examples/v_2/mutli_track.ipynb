{
 "cells": [
  {
   "cell_type": "code",
   "execution_count": null,
   "metadata": {},
   "outputs": [],
   "source": [
    "%load_ext autoreload\n",
    "%autoreload 2\n",
    "%gui qt"
   ]
  },
  {
   "cell_type": "code",
   "execution_count": null,
   "metadata": {},
   "outputs": [],
   "source": [
    "import os\n",
    "import pya\n",
    "\n",
    "TEST_FILE = os.path.join(os.path.abspath('..'), \"data\\\\stereoTest.wav\")\n",
    "signal = pya.Asig(TEST_FILE)"
   ]
  },
  {
   "cell_type": "code",
   "execution_count": null,
   "metadata": {},
   "outputs": [],
   "source": [
    "from pyavis.backends.qt_v2.axis import AxisQt\n",
    "from pyavis.backends.qt_v2.track import TrackQt\n",
    "from pyavis.backends.qt_v2.multitrack import MultiTrackQt\n",
    "\n",
    "def on_gfx_track_added(m: MultiTrackQt, t: TrackQt):\n",
    "    ax_bottom = AxisQt(\"bottom\", lambda value: f'{round(value / t.sampling_rate, 2)}')\n",
    "    t.set_axis(ax_bottom)\n",
    "    t.set_view_limits(yMin=-1, yMax=1, xMin=0, minYRange=2, maxYRange=2)\n",
    "\n",
    "    if len(mt.tracks) > 1:\n",
    "        t.link_track(mt.tracks[0], 'x')\n",
    "        t.link_track(mt.tracks[0], 'y')\n",
    "\n",
    "def on_gfx_track_removed(m: MultiTrackQt, t: TrackQt):\n",
    "    t.link_track(None, 'x')\n",
    "    t.link_track(None, 'y')\n",
    "\n",
    "mt = MultiTrackQt()\n",
    "mt.trackAdded.connect(lambda args: on_gfx_track_added(args[0], args[1]))\n",
    "mt.trackRemoved.connect(lambda args: on_gfx_track_removed(args[0], args[1]))\n",
    "\n",
    "mt.show()"
   ]
  },
  {
   "cell_type": "code",
   "execution_count": null,
   "metadata": {},
   "outputs": [],
   "source": [
    "from pyavis.backends.qt_v2 import SelectionQt\n",
    "from pyavis.graphics import Selection\n",
    "from pyavis.shared.util import Subject\n",
    "\n",
    "class SyncedSelections:\n",
    "    def __init__(self, start: float, end: float):\n",
    "        self.selections: list[Selection] = []\n",
    "        self.region = (start, end)\n",
    "\n",
    "        self.selectionsUpdated = Subject()\n",
    "        self.selectionAdded = Subject()\n",
    "        self.selectionRemoved = Subject()\n",
    "\n",
    "    def add_selection(self) -> Selection:\n",
    "        selection = SelectionQt(orientation=\"vertical\", region=self.region)\n",
    "        selection.regionChanged.connect(self._callback)\n",
    "\n",
    "        self.selections.append(selection)\n",
    "        self.selectionAdded.emit(selection)\n",
    "\n",
    "        return selection\n",
    "\n",
    "    def update_all_selections(self, region: tuple[int, int]):\n",
    "        self.region = region\n",
    "        for selection in self.selections:\n",
    "            selection.set_region(self.region)\n",
    "    \n",
    "    def remove_selection(self, selection: Selection):\n",
    "        to_remove = self.selections.pop(self.selections.index(selection))\n",
    "        to_remove.regionChanged.disconnect(self._callback)\n",
    "\n",
    "        self.selections.remove(to_remove)\n",
    "        self.selectionRemoved.emit(to_remove)\n",
    "\n",
    "    def _callback(self, args):\n",
    "        self.update_all_selections(args[1])"
   ]
  },
  {
   "cell_type": "code",
   "execution_count": null,
   "metadata": {},
   "outputs": [],
   "source": [
    "from pyavis.shared.multitrack import MultiTrack, Track\n",
    "\n",
    "track2gfx_track = {}\n",
    "gfx_track2track = {}\n",
    "\n",
    "sig2gfx_sig = {}\n",
    "gfx_sig2sig = {}\n",
    "\n",
    "def on_track_added(track: Track, mt: MultiTrackQt):\n",
    "    gfx_track = mt.add_track(track.label, track.sampling_rate)\n",
    "    track2gfx_track[track] = gfx_track\n",
    "    gfx_track2track[gfx_track] = track\n",
    "\n",
    "    def on_signal_added(args, gfx_track):\n",
    "        gfx_sig = gfx_track.add_signal((args[1][0], 0), args[1][1].signal())\n",
    "        sig2gfx_sig[args[1][1]] = gfx_sig\n",
    "        gfx_sig2sig[gfx_sig] = args[1][1]\n",
    "\n",
    "    def on_signal_removed(args, gfx_track):\n",
    "        sig = args[1][1]\n",
    "        gfx_sig = sig2gfx_sig[sig]\n",
    "        gfx_track.remove(gfx_sig)\n",
    "\n",
    "        sig2gfx_sig.pop(sig)\n",
    "        gfx_sig2sig.pop(gfx_sig)    \n",
    "\n",
    "    track.signalAdded.connect(lambda args, gfx_track=gfx_track: on_signal_added(args, gfx_track))\n",
    "    track.signalRemoved.connect(lambda args, gfx_track=gfx_track: on_signal_removed(args, gfx_track))\n",
    "\n",
    "def on_track_removed(track: Track, mt: MultiTrackQt):\n",
    "    gfx_track = track2gfx_track[track]\n",
    "    track2gfx_track.pop(track)\n",
    "    gfx_track2track.pop(gfx_track)\n",
    "\n",
    "    mt.remove_track(gfx_track)\n",
    "\n",
    "\n",
    "multi = MultiTrack()\n",
    "multi.onTrackAdded.connect(lambda args: on_track_added(args[1], mt))\n",
    "multi.onTrackRemoved.connect(lambda args: on_track_removed(args[1], mt))"
   ]
  },
  {
   "cell_type": "code",
   "execution_count": null,
   "metadata": {},
   "outputs": [],
   "source": [
    "from pyavis.shared.signal import AudioSignal\n",
    "\n",
    "t_1 = Track(\"test_1\", 44100)\n",
    "t_2 = Track(\"test_2\", 44100)\n",
    "t_3 = Track(\"test_3\", 44100)\n",
    "\n",
    "multi.add_track(t_1)\n",
    "multi.add_track(t_2)\n",
    "multi.add_track(t_3)\n",
    "\n",
    "t_1.try_add(0, AudioSignal(signal[:,0]))\n",
    "t_2.try_add(0, AudioSignal(signal[:,1]))"
   ]
  },
  {
   "cell_type": "code",
   "execution_count": null,
   "metadata": {},
   "outputs": [],
   "source": [
    "selector = SyncedSelections(0,44000)\n",
    "\n",
    "sel_1 = selector.add_selection()\n",
    "sel_2 = selector.add_selection()\n",
    "\n",
    "mt.tracks[0].set_selection(sel_1)\n",
    "mt.tracks[1].set_selection(sel_2)\n",
    "\n",
    "selected = []\n",
    "for t in mt.tracks:\n",
    "    selected.append(False if t.get_selection() is None else True)"
   ]
  },
  {
   "cell_type": "code",
   "execution_count": null,
   "metadata": {},
   "outputs": [],
   "source": [
    "import pya\n",
    "pya.startup(device=index)"
   ]
  },
  {
   "cell_type": "code",
   "execution_count": null,
   "metadata": {},
   "outputs": [],
   "source": [
    "from itertools import compress\n",
    "import numpy as np\n",
    "\n",
    "selected_tracks = list(compress(multi.tracks, selected))\n",
    "sigs = np.array([t[int(selector.region[0]):int(selector.region[1])] for t in selected_tracks]).T\n",
    "\n",
    "asig = pya.Asig(sigs, channels=sigs.shape[1])\n",
    "asig.play()"
   ]
  }
 ],
 "metadata": {
  "kernelspec": {
   "display_name": "pyavis",
   "language": "python",
   "name": "python3"
  },
  "language_info": {
   "codemirror_mode": {
    "name": "ipython",
    "version": 3
   },
   "file_extension": ".py",
   "mimetype": "text/x-python",
   "name": "python",
   "nbconvert_exporter": "python",
   "pygments_lexer": "ipython3",
   "version": "3.10.12"
  },
  "orig_nbformat": 4
 },
 "nbformat": 4,
 "nbformat_minor": 2
}
