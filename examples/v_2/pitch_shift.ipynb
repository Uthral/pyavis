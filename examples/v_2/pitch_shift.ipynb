{
 "cells": [
  {
   "cell_type": "code",
   "execution_count": null,
   "metadata": {},
   "outputs": [],
   "source": [
    "%load_ext autoreload\n",
    "%autoreload 2\n",
    "%gui qt"
   ]
  },
  {
   "cell_type": "code",
   "execution_count": null,
   "metadata": {},
   "outputs": [],
   "source": [
    "import os\n",
    "import numpy as np\n",
    "from pya import Asig, Esig\n",
    "\n",
    "# TEST_FILE = os.path.join(os.path.abspath('..'), \"data\\\\stereoTest.wav\")\n",
    "# signal = Asig(TEST_FILE)\n",
    "signal = Asig(np.sin(2* np.pi * 440 * np.linspace(0, 1, 44100)))\n",
    "edit_signal = Esig(signal.mono())"
   ]
  },
  {
   "cell_type": "code",
   "execution_count": null,
   "metadata": {},
   "outputs": [],
   "source": [
    "\n",
    "from pyavis.graphics import createAxis, createMultiTrack\n",
    "\n",
    "mt = createMultiTrack()\n",
    "track = mt.add_track(\"test_1\", 44100)\n",
    "\n",
    "mt.show()"
   ]
  },
  {
   "cell_type": "code",
   "execution_count": null,
   "metadata": {},
   "outputs": [],
   "source": [
    "\n",
    "\n",
    "def midi_conv(value) -> str:\n",
    "    midi_value = int(value)\n",
    "    notes = ['C', 'C#', 'D', 'D#', 'E', 'F', 'F#', 'G', 'G#', 'A', 'A#', 'B',]\n",
    "    octave = int(midi_value / 12 - 1)\n",
    "    return f'{notes[midi_value % 12]}{octave}'\n",
    "\n",
    "ax_left = createAxis(\"left\", lambda value: f'{round(value,1)} | {midi_conv(value)}')\n",
    "ax_left.set_spacing((5,1))\n",
    "ax_bottom = createAxis(\"bottom\", lambda value: f'{round(value / track.sampling_rate, 2)}') "
   ]
  },
  {
   "cell_type": "code",
   "execution_count": null,
   "metadata": {},
   "outputs": [],
   "source": [
    "track.set_axis(ax_left)\n",
    "track.set_axis(ax_bottom)"
   ]
  },
  {
   "cell_type": "code",
   "execution_count": null,
   "metadata": {},
   "outputs": [],
   "source": [
    "sig = track.add_signal((0,69), edit_signal.asig.sig)\n",
    "# Better naming scheme, e.g. set_y_range\n",
    "sig.set_size(1)\n",
    "\n",
    "for event in edit_signal.cache.events:\n",
    "    rect = track.add_rectangle((int(event.start), 68.5), (int((event.end - event.start)), 1))\n",
    "    rect.set_style(style={\"fill\": (0,255,0, 25), \"border\": (255,0,0, 255)})\n",
    "    rect.draggable = True\n",
    "    rect.draggingFinish.connect(lambda args: move_sig(sig, args))"
   ]
  },
  {
   "cell_type": "code",
   "execution_count": null,
   "metadata": {},
   "outputs": [],
   "source": [
    "track.set_view_limits(xMin = 0, xMax=len(sig.data), yMin = 0, yMax=130)"
   ]
  },
  {
   "cell_type": "code",
   "execution_count": null,
   "metadata": {},
   "outputs": [],
   "source": [
    "def move_sig(signal, args):\n",
    "    new_x_value = args[1][0]\n",
    "    new_y_value = args[1][1]\n",
    "    sig.set_position(new_x_value, new_y_value + 5)\n",
    "\n",
    "    midi = round(new_y_value)\n",
    "    print(midi)\n",
    "\n",
    "    # if len(edit_signal.edits) > 0:\n",
    "    #     edit_signal.undo_last()\n",
    "    # edit_signal.correct_pitch(0, edit_signal.asig.dur, np.array([(0.9, midi)]))\n",
    "    \n",
    "    "
   ]
  },
  {
   "cell_type": "code",
   "execution_count": null,
   "metadata": {},
   "outputs": [],
   "source": [
    "track.allow_dragging(False, True)\n",
    "track.set_dragging_limits((0, len(sig.data)), ((1, 128)))"
   ]
  }
 ],
 "metadata": {
  "kernelspec": {
   "display_name": "pyavis",
   "language": "python",
   "name": "python3"
  },
  "language_info": {
   "codemirror_mode": {
    "name": "ipython",
    "version": 3
   },
   "file_extension": ".py",
   "mimetype": "text/x-python",
   "name": "python",
   "nbconvert_exporter": "python",
   "pygments_lexer": "ipython3",
   "version": "3.10.12"
  },
  "orig_nbformat": 4
 },
 "nbformat": 4,
 "nbformat_minor": 2
}
