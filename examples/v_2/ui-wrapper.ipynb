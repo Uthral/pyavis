{
 "cells": [
  {
   "cell_type": "code",
   "execution_count": null,
   "metadata": {},
   "outputs": [],
   "source": [
    "%load_ext autoreload\n",
    "%autoreload 2\n",
    "\n",
    "import pyavis\n",
    "\n",
    "pyavis.use_backend(\"ipywidgets\")\n",
    "\n",
    "# %gui qt\n",
    "# pyavis.use_backend(\"qt\")"
   ]
  },
  {
   "cell_type": "code",
   "execution_count": null,
   "metadata": {},
   "outputs": [],
   "source": [
    "from pyavis.widgets import ScrollArea, VBox, HBox, Button, DropDown\n",
    "\n",
    "scroll = ScrollArea()\n",
    "vbox = VBox()\n",
    "\n",
    "for i in range(20):\n",
    "    hbox = HBox()\n",
    "    hbox.add_widget(Button(label=\"Hello\"))\n",
    "    hbox.add_widget(Button(label=\"World\"))\n",
    "    vbox.add_widget(hbox)\n",
    "\n",
    "scroll.set_widget(vbox)\n",
    "scroll.show()"
   ]
  },
  {
   "cell_type": "code",
   "execution_count": null,
   "metadata": {},
   "outputs": [],
   "source": [
    "\n",
    "b1 = Button(label=\"Hello\")\n",
    "b2 = Button(label=\"World\")\n",
    "b1.add_on_click(lambda x: print(\"Hello\"))\n",
    "b2.add_on_click(lambda y: print(\"World\"))\n",
    "\n",
    "\n",
    "vbox = VBox()\n",
    "vbox.add_widget(b1)\n",
    "vbox.add_widget(b2)\n",
    "\n",
    "drop_down = DropDown(description=\"Test\", options=[\"A\",\"B\",\"C\"], default=\"A\")\n",
    "drop_down.add_on_selection_changed(lambda x: print(x))\n",
    "vbox.add_widget(drop_down)\n",
    "vbox.show()"
   ]
  },
  {
   "cell_type": "code",
   "execution_count": null,
   "metadata": {},
   "outputs": [],
   "source": []
  }
 ],
 "metadata": {
  "kernelspec": {
   "display_name": "pyavis",
   "language": "python",
   "name": "python3"
  },
  "language_info": {
   "codemirror_mode": {
    "name": "ipython",
    "version": 3
   },
   "file_extension": ".py",
   "mimetype": "text/x-python",
   "name": "python",
   "nbconvert_exporter": "python",
   "pygments_lexer": "ipython3",
   "version": "3.10.12"
  },
  "orig_nbformat": 4
 },
 "nbformat": 4,
 "nbformat_minor": 2
}
