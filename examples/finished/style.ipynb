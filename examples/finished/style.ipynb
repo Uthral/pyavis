{
 "cells": [
  {
   "cell_type": "code",
   "execution_count": null,
   "metadata": {},
   "outputs": [],
   "source": [
    "%load_ext autoreload\n",
    "%autoreload 2"
   ]
  },
  {
   "cell_type": "code",
   "execution_count": null,
   "metadata": {},
   "outputs": [],
   "source": [
    "%matplotlib widget\n",
    "%gui qt"
   ]
  },
  {
   "cell_type": "code",
   "execution_count": null,
   "metadata": {},
   "outputs": [],
   "source": [
    "from pyavis import use_backend\n",
    "\n",
    "if True:\n",
    "    import matplotlib\n",
    "    matplotlib.pyplot.ioff()\n",
    "    use_backend(\"ipywidgets\")\n",
    "else:\n",
    "    use_backend(\"qt\")"
   ]
  },
  {
   "cell_type": "code",
   "execution_count": null,
   "metadata": {},
   "outputs": [],
   "source": [
    "from pyavis.graphics import Layout_v2\n",
    "from pyavis.widgets import GraphicDisp\n",
    "\n",
    "layout = Layout_v2(2,2)\n",
    "\n",
    "track_1 = layout.add_track(\"test_1\", 0, 0, rowspan=1, colspan=1)\n",
    "track_2 = layout.add_track(\"test_2\", 0, 1, rowspan=1, colspan=1)\n",
    "track_3 = layout.add_track(\"test_3\", 1, 0, rowspan=1, colspan=2)\n",
    "\n",
    "display = GraphicDisp()\n",
    "display.set_displayed_item(layout)\n",
    "display.show()"
   ]
  },
  {
   "cell_type": "code",
   "execution_count": null,
   "metadata": {},
   "outputs": [],
   "source": [
    "layout.set_style((0, 255, 255))\n",
    "track_1.set_style((255, 0, 0))"
   ]
  },
  {
   "cell_type": "code",
   "execution_count": null,
   "metadata": {},
   "outputs": [],
   "source": [
    "from pya import Asig\n",
    "import numpy as np\n",
    "\n",
    "signal_1 = Asig(np.sin(2* np.pi * 5 * np.linspace(0, 1, 44100)))\n",
    "signal_2 = Asig(np.sin(2* np.pi * 6000 * np.linspace(0, 1, 44100)))"
   ]
  },
  {
   "cell_type": "code",
   "execution_count": null,
   "metadata": {},
   "outputs": [],
   "source": [
    "sig = track_1.add_signal((0,0), \"auto\", y=signal_1.sig)\n",
    "sig.set_style((0, 255, 0))"
   ]
  },
  {
   "cell_type": "code",
   "execution_count": null,
   "metadata": {},
   "outputs": [],
   "source": [
    "spec = track_2.add_spectrogram(signal_2)"
   ]
  },
  {
   "cell_type": "code",
   "execution_count": null,
   "metadata": {},
   "outputs": [],
   "source": [
    "line_1 = track_3.add_line((0,0.7), 0)\n",
    "line_2 = track_3.add_line((0,0.2), 0)\n",
    "\n",
    "line_3 = track_3.add_line((0.3, 0), np.pi / 2)\n",
    "line_4 = track_3.add_line((0.8, 0), np.pi / 2)\n",
    "\n",
    "line_3.set_style((255, 0, 0))\n",
    "line_4.set_style((255, 5, 5))\n",
    "\n",
    "rect = track_3.add_rect((0.3, 0.2), 0.5, 0.5)\n",
    "rect.set_style((20, 20, 20), (50, 70, 90))\n",
    "\n",
    "track_3.set_x_view_limits(0, 1)\n",
    "track_3.set_y_view_limits(0, 1)"
   ]
  }
 ],
 "metadata": {
  "kernelspec": {
   "display_name": "pyavis",
   "language": "python",
   "name": "python3"
  },
  "language_info": {
   "codemirror_mode": {
    "name": "ipython",
    "version": 3
   },
   "file_extension": ".py",
   "mimetype": "text/x-python",
   "name": "python",
   "nbconvert_exporter": "python",
   "pygments_lexer": "ipython3",
   "version": "3.10.12"
  },
  "orig_nbformat": 4
 },
 "nbformat": 4,
 "nbformat_minor": 2
}
