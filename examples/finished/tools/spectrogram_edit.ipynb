{
 "cells": [
  {
   "cell_type": "code",
   "execution_count": 1,
   "metadata": {},
   "outputs": [],
   "source": [
    "%matplotlib widget\n",
    "%gui qt"
   ]
  },
  {
   "cell_type": "code",
   "execution_count": 2,
   "metadata": {},
   "outputs": [],
   "source": [
    "import pya\n",
    "import pyavis\n",
    "from pyavis.tools import SpectrogramEdit\n",
    "\n",
    "if True:\n",
    "    pyavis.use_backend(\"ipywidgets\")\n",
    "else:\n",
    "    pyavis.use_backend(\"qt\")"
   ]
  },
  {
   "cell_type": "code",
   "execution_count": 3,
   "metadata": {},
   "outputs": [
    {
     "data": {
      "application/vnd.jupyter.widget-view+json": {
       "model_id": "bd68888fd9e2413cba36b45cd46cdc0b",
       "version_major": 2,
       "version_minor": 0
      },
      "text/plain": [
       "HBox(children=(Canvas(toolbar=Toolbar(toolitems=[('Home', 'Reset original view', 'home', 'home'), ('Back', 'Ba…"
      ]
     },
     "metadata": {},
     "output_type": "display_data"
    }
   ],
   "source": [
    "edit = SpectrogramEdit()\n",
    "edit.show()"
   ]
  },
  {
   "cell_type": "code",
   "execution_count": 4,
   "metadata": {},
   "outputs": [],
   "source": [
    "import numpy as np\n",
    "import os\n",
    "\n",
    "TEST_FILE = os.path.join(os.path.abspath('..\\..'), \"data\\\\stereoTest.wav\")\n",
    "signal = pya.Asig(TEST_FILE).mono()\n",
    "\n",
    "edit.set_signal(signal.to_stft().to_sig().to_stft().to_sig())\n",
    "edit.set_brush([0] * np.ones((30,5)), (15,2))"
   ]
  },
  {
   "cell_type": "code",
   "execution_count": null,
   "metadata": {},
   "outputs": [],
   "source": []
  },
  {
   "cell_type": "code",
   "execution_count": 5,
   "metadata": {},
   "outputs": [
    {
     "name": "stderr",
     "output_type": "stream",
     "text": [
      "c:\\Users\\robin\\miniconda3\\envs\\pyavis\\lib\\site-packages\\pya\\asig.py:639: UserWarning: Asig.play: no default server running, nor server arg specified.\n",
      "  warn(\"Asig.play: no default server running, nor server arg specified.\")\n"
     ]
    },
    {
     "data": {
      "text/plain": [
       "Asig('c:\\Users\\robin\\Dev\\Python\\pyavis\\examples\\data\\stereoTest.wav_blended_stft_2sig_stft_2sig_normalised'): 1 x 176512 @ 44100Hz = 4.003s cn=['0']"
      ]
     },
     "execution_count": 5,
     "metadata": {},
     "output_type": "execute_result"
    }
   ],
   "source": [
    "#pya.startup(device=)\n",
    "edit._signal.norm().play()"
   ]
  }
 ],
 "metadata": {
  "kernelspec": {
   "display_name": "pyavis",
   "language": "python",
   "name": "python3"
  },
  "language_info": {
   "codemirror_mode": {
    "name": "ipython",
    "version": 3
   },
   "file_extension": ".py",
   "mimetype": "text/x-python",
   "name": "python",
   "nbconvert_exporter": "python",
   "pygments_lexer": "ipython3",
   "version": "3.10.12"
  },
  "orig_nbformat": 4
 },
 "nbformat": 4,
 "nbformat_minor": 2
}
