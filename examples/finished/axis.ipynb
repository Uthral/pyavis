{
 "cells": [
  {
   "cell_type": "code",
   "execution_count": 1,
   "metadata": {},
   "outputs": [],
   "source": [
    "%load_ext autoreload\n",
    "%autoreload 2"
   ]
  },
  {
   "cell_type": "code",
   "execution_count": 2,
   "metadata": {},
   "outputs": [],
   "source": [
    "%matplotlib widget\n",
    "%gui qt"
   ]
  },
  {
   "cell_type": "code",
   "execution_count": 3,
   "metadata": {},
   "outputs": [],
   "source": [
    "from pyavis import use_backend\n",
    "\n",
    "if False:\n",
    "    use_backend(\"ipywidgets\")\n",
    "else:\n",
    "    use_backend(\"qt\")"
   ]
  },
  {
   "cell_type": "code",
   "execution_count": 4,
   "metadata": {},
   "outputs": [],
   "source": [
    "from pyavis.graphics import Layout_v2\n",
    "from pyavis.widgets import GraphicDisp\n",
    "\n",
    "layout = Layout_v2(1,1)\n",
    "\n",
    "track_1 = layout.add_track(\"test_1\", 0, 0, rowspan=1, colspan=1)\n",
    "\n",
    "display = GraphicDisp()\n",
    "display.set_displayed_item(layout)\n",
    "display.show()"
   ]
  },
  {
   "cell_type": "code",
   "execution_count": 5,
   "metadata": {},
   "outputs": [],
   "source": [
    "def midi_conv(value) -> str:\n",
    "    midi_value = int(value)\n",
    "    notes = ['C', 'C#', 'D', 'D#', 'E', 'F', 'F#', 'G', 'G#', 'A', 'A#', 'B',]\n",
    "    octave = int(midi_value / 12 - 1)\n",
    "    return f'{notes[midi_value % 12]}{octave}'\n",
    "\n",
    "track_1.set_axis('left', spacing=(8,1), disp_func=midi_conv)\n",
    "track_1.set_axis('bottom', spacing=(44100, 22050), disp_func=lambda value: f'{round(value / 44100, 2)}')\n",
    "track_1.set_y_view_limits(20, 30)\n",
    "track_1.set_x_view_limits(0, 88200)"
   ]
  }
 ],
 "metadata": {
  "kernelspec": {
   "display_name": "pyavis",
   "language": "python",
   "name": "python3"
  },
  "language_info": {
   "codemirror_mode": {
    "name": "ipython",
    "version": 3
   },
   "file_extension": ".py",
   "mimetype": "text/x-python",
   "name": "python",
   "nbconvert_exporter": "python",
   "pygments_lexer": "ipython3",
   "version": "3.10.12"
  },
  "orig_nbformat": 4
 },
 "nbformat": 4,
 "nbformat_minor": 2
}
