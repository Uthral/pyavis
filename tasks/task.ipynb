{
 "cells": [
  {
   "cell_type": "markdown",
   "metadata": {},
   "source": [
    "### Aufgabe | “Darstellen eines Signals und eines Buttons in einem Widget”\n",
    "- Nutze die Dokumentation und die Beispiele um ein Signal und einen Button darzustellen\n",
    "- Wie erwartest du Zooming / Panning auf bestimmten Bereich \n"
   ]
  },
  {
   "cell_type": "code",
   "execution_count": 1,
   "metadata": {},
   "outputs": [],
   "source": [
    "import pya\n",
    "\n",
    "signal = pya.Asig(\"..\\\\examples\\\\data\\\\voice.wav\").mono()"
   ]
  },
  {
   "cell_type": "code",
   "execution_count": 2,
   "metadata": {},
   "outputs": [],
   "source": [
    "import pyavis\n",
    "import pyavis.graphics\n",
    "import pyavis.widgets\n",
    "\n",
    "%gui qt\n",
    "pyavis.use_backend(\"qt\")\n",
    "\n",
    "vbox = pyavis.widgets.VBox()\n",
    "button = pyavis.widgets.Button(\"Button\")\n",
    "display = pyavis.widgets.GraphicDisp()\n",
    "\n",
    "layout = pyavis.graphics.Layout()\n",
    "track = layout.add_track(\"Signal\", 0, 0)\n",
    "track.add_signal((0,0), 1, y=signal.sig)\n",
    "\n",
    "display.set_displayed_item(layout)\n",
    "\n",
    "vbox.add_widget(button)\n",
    "vbox.add_widget(display)\n",
    "vbox.show()"
   ]
  }
 ],
 "metadata": {
  "kernelspec": {
   "display_name": "pyavis_d",
   "language": "python",
   "name": "python3"
  },
  "language_info": {
   "codemirror_mode": {
    "name": "ipython",
    "version": 3
   },
   "file_extension": ".py",
   "mimetype": "text/x-python",
   "name": "python",
   "nbconvert_exporter": "python",
   "pygments_lexer": "ipython3",
   "version": "3.10.13"
  }
 },
 "nbformat": 4,
 "nbformat_minor": 2
}
